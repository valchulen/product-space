{
 "cells": [
  {
   "cell_type": "code",
   "execution_count": null,
   "id": "a2a07a6f-7744-444d-b510-af08222576db",
   "metadata": {},
   "outputs": [],
   "source": [
    "import pandas as pd\n",
    "import plotly.express as px"
   ]
  },
  {
   "cell_type": "code",
   "execution_count": null,
   "id": "a7bf79bf-4355-4355-8235-89ec703e8d16",
   "metadata": {},
   "outputs": [],
   "source": [
    "!python main.py -d 5 -O 0.18 >/dev/null 2>&1"
   ]
  },
  {
   "cell_type": "code",
   "execution_count": null,
   "id": "58bb0e9f-ae0c-4a37-9db2-70ae61b3716a",
   "metadata": {},
   "outputs": [],
   "source": [
    "omegas_df = pd.read_csv(\"metrics/omega.csv\")\n",
    "omegas_df"
   ]
  },
  {
   "cell_type": "code",
   "execution_count": null,
   "id": "09817b79-aa5d-4423-8f4e-1d9493b45fc5",
   "metadata": {},
   "outputs": [],
   "source": [
    "omega_arg_df = omegas_df[omegas_df[\"country\"]==\"ARG\"]\n",
    "omega_arg_df"
   ]
  },
  {
   "cell_type": "code",
   "execution_count": null,
   "id": "c9ddbed0-449b-4672-a6d6-f6b5c6dd39d2",
   "metadata": {},
   "outputs": [],
   "source": [
    "fig = px.line(omega_arg_df, x=\"generation\", y=[\"max_omega\",\"mean_omega\", \"min_omega\"], title='Omegas promedio en el tiempo para ARG')\n",
    "fig.update_yaxes(range=[0,1])\n",
    "fig.update_xaxes(ticklabelstep=2)\n",
    "fig.show()"
   ]
  },
  {
   "cell_type": "code",
   "execution_count": null,
   "id": "e0a431db-cf4d-4c76-88a0-7a9bb7547891",
   "metadata": {},
   "outputs": [],
   "source": [
    "exports_df = pd.read_csv(\"metrics/exports.csv\")\n",
    "exports_df"
   ]
  },
  {
   "cell_type": "code",
   "execution_count": null,
   "id": "db28f1ad-269f-475d-a8b4-7806cfa3c184",
   "metadata": {},
   "outputs": [],
   "source": [
    "exports_arg_df = exports_df[exports_df[\"country\"] == \"ARG\"]\n",
    "fig = px.line(exports_arg_df, x=\"generation\", y=\"count_exports\", title='# de exportaciones de ARG')\n",
    "fig.show()"
   ]
  },
  {
   "cell_type": "code",
   "execution_count": null,
   "id": "b6760890-7577-47ee-854e-12b39a4dd8bf",
   "metadata": {},
   "outputs": [],
   "source": []
  }
 ],
 "metadata": {
  "kernelspec": {
   "display_name": "Python 3 (ipykernel)",
   "language": "python",
   "name": "python3"
  },
  "language_info": {
   "codemirror_mode": {
    "name": "ipython",
    "version": 3
   },
   "file_extension": ".py",
   "mimetype": "text/x-python",
   "name": "python",
   "nbconvert_exporter": "python",
   "pygments_lexer": "ipython3",
   "version": "3.10.4"
  }
 },
 "nbformat": 4,
 "nbformat_minor": 5
}
