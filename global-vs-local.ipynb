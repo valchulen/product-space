{
 "cells": [
  {
   "cell_type": "code",
   "execution_count": null,
   "id": "a2a07a6f-7744-444d-b510-af08222576db",
   "metadata": {},
   "outputs": [],
   "source": [
    "import pandas as pd\n",
    "import plotly.express as px\n",
    "import numpy as np"
   ]
  },
  {
   "cell_type": "markdown",
   "metadata": {},
   "source": [
    "# Diferencias de exportaciones por omega y criterio de simulacion"
   ]
  },
  {
   "cell_type": "code",
   "execution_count": null,
   "id": "0065b828",
   "metadata": {},
   "outputs": [],
   "source": [
    "## CARGA DE DATOS PARA MEDIR DIFERENCIAS ENRTRE CRITERIOS\n",
    "exports_diff_dfs = []\n",
    "exports_global_dfs = []\n",
    "exports_local_dfs = []\n",
    "for omega in (\"0.1\", \"0.2\", \"0.3\", \"0.4\", \"0.5\", \"0.6\", \"0.8\", \"0.9\", \"0.55\", \"0.65\"):\n",
    "    exports_global_df = pd.read_csv(f\"experimentacion/metrics-true-{omega}/exports.csv\")\n",
    "    exports_global_df[\"omega\"] = float(omega)\n",
    "    exports_global_dfs.append(exports_global_df)\n",
    "\n",
    "    exports_local_df = pd.read_csv(f\"experimentacion/metrics-false-{omega}/exports.csv\")\n",
    "    exports_local_df[\"omega\"] = float(omega)\n",
    "    exports_local_dfs.append(exports_local_df)\n",
    "\n",
    "    exports_diff_df = exports_global_df.set_index([\"country\", \"generation\"]) - exports_local_df.set_index([\"country\", \"generation\"])\n",
    "    exports_diff_df[\"omega\"] = float(omega)\n",
    "\n",
    "    exports_diff_dfs.append(exports_diff_df)\n",
    "\n",
    "exports_diff_df = pd.concat(exports_diff_dfs)\n",
    "exports_diff_df.sort_values(\"omega\", inplace=True)\n",
    "\n",
    "exports_global_df = pd.concat(exports_global_dfs)\n",
    "exports_global_df.sort_values(\"omega\", inplace=True)\n",
    "\n",
    "exports_local_df = pd.concat(exports_local_dfs)\n",
    "exports_local_df.sort_values(\"omega\", inplace=True)"
   ]
  },
  {
   "cell_type": "markdown",
   "id": "740e83d6",
   "metadata": {},
   "source": [
    "Veamos primero cual es la tendencia de diferencias en exportaciones actualizando $\\Phi$ en cada generacion (llamado criterio de simulacion global) versus no realizar esta actualizacion (llamado criterio de simulacion local).\n",
    "\n",
    "En la bibliografia se menciona que esta actualizacion no trae beneficios claros. Tener en cuenta que actualizar $\\Phi$ corresponde a volver a categorizar los productos.\n",
    "\n",
    "Para esto elegimos visualizar la el avance de la diferencia absoluta segun cada umbral $\\Omega$ para distintos paises. A medida avanza la simulacion, dado que es un proceso de difusion, se aproximan asintotas sobre las metricas observadas."
   ]
  },
  {
   "cell_type": "code",
   "execution_count": null,
   "metadata": {},
   "outputs": [],
   "source": [
    "paises = [\"ARG\"]\n",
    "# TODO: fijar los paises\n",
    "paises = set(paises + [country for country, _ in np.random.choice(exports_diff_df.index, 5 - len(paises))])\n",
    "for pais in sorted(paises):\n",
    "    df = exports_diff_df.loc[pais].reset_index().sort_values([\"generation\",\"omega\"])\n",
    "    fig = px.line(df,\n",
    "                x=\"generation\",\n",
    "                y=\"count_exports\",\n",
    "                color=\"omega\",\n",
    "                title=f\"Diferencia en cantidad de exportaciones para {pais} y omega segun criterio de simulacion\",\n",
    "                labels={\"count_exports\": \"Diferencia de exportaciones\", \"generation\": \"Generacion\", \"country\": \"Pais\"})\n",
    "    fig.show()"
   ]
  },
  {
   "cell_type": "markdown",
   "id": "97c06c3a",
   "metadata": {},
   "source": [
    "Se observa que, para todos los paises, la diferencia se estabiliza en las ultimas generaciones (10ma generacion en adelante), por lo que tomaremos las comparativas con la menor divergencia (la ultima generacion disponible).\n",
    "\n",
    "Veamos con mayor detalle como es la distribucion segun $\\Omega$ (umbral de \"descubrimiento\")."
   ]
  },
  {
   "cell_type": "code",
   "execution_count": null,
   "id": "dd9398d5",
   "metadata": {},
   "outputs": [],
   "source": [
    "max_diff_df = (\n",
    "    exports_diff_df\n",
    "    .reset_index()\n",
    "    .set_index([\"generation\", \"country\", \"omega\"])\n",
    "    .loc[max(generation for _, generation in exports_diff_df.index)]\n",
    "    .max(axis=1)\n",
    ")\n",
    "max_diff_df.rename(\"difference\", inplace=True)\n",
    "fig = px.box(\n",
    "    max_diff_df.reset_index(),\n",
    "    x=\"omega\",\n",
    "    y=\"difference\",\n",
    "    title=f\"Distribucion de diferencias segun criterio de simulacion en cantidad de exportaciones x omega (ultima generacion)\",\n",
    "    labels={\"difference\": \"Diferencia de exportaciones\", \"omega\": \"Omega\"})\n",
    "fig.show()"
   ]
  },
  {
   "cell_type": "markdown",
   "id": "40c2f4fc",
   "metadata": {},
   "source": [
    "Claramente los mas interesantes de analizar son los valores de $\\Omega = 0.5, 0.55, 0.6 $ y $ 0.65$. Esto se condice con la idea de que a valores muy pequenos de $\\Omega$ el descubrimiento es facil y a valores muy elevados es muy dificil, por lo que las alternativas globales y locales pecan en los mismos aspectos ($\\Omega$ seria mas significativo que actualizar $\\Phi$).\n",
    "\n",
    "\n",
    "#### Local vs global para $\\Omega$ poco interesante"
   ]
  },
  {
   "cell_type": "code",
   "execution_count": null,
   "id": "db28f1ad-269f-475d-a8b4-7806cfa3c184",
   "metadata": {},
   "outputs": [],
   "source": [
    "# diferencia total en la cantidad de exportaciones de los omegas\n",
    "UNINTRESTING_OMEGAS = (0.1, 0.2, 0.3, 0.4, 0.6, 0.8, 0.9)\n",
    "df_ = exports_diff_df[exports_diff_df.omega.isin(UNINTRESTING_OMEGAS)].reset_index().sort_values([\"omega\", \"generation\"])\n",
    "fig = px.line(df_,\n",
    "        color=\"country\",\n",
    "        x=\"generation\",\n",
    "        y=\"count_exports\",\n",
    "        facet_col=\"omega\", facet_col_wrap=2,\n",
    "        height=1000,\n",
    "        width=2000,\n",
    "        title=f\"Evolucion de diferencias segun criterio de simulacion en cantidad de exportaciones (por omega)\",\n",
    "        labels={\"count_exports\": \"Diferencia de exportaciones\", \"omega\": \"Omega\", \"generation\": \"Generation\"})\n",
    "fig.for_each_annotation(lambda a: a.update(text=a.text.replace(\"=\", \" = \")))\n",
    "fig.update_yaxes(matches=None, range=[0, df_.count_exports.max()])\n",
    "fig.update_xaxes(matches=None)\n",
    "fig.show()"
   ]
  },
  {
   "cell_type": "markdown",
   "id": "83786936",
   "metadata": {},
   "source": [
    "Como vemos, no hay cambios de interes fuera de las primeras generaciones para ninguno de los omegas elegidos, por lo que para $\\Omega = 0.1, 0.2, 0.3, 0.4, 0.6, 0.8, 0.9$ concluimos que las versiones locales y globales son indistinguibles.\n",
    "\n",
    "#### Local vs global para $\\Omega$ interesante"
   ]
  },
  {
   "cell_type": "code",
   "execution_count": null,
   "id": "50ab8d91",
   "metadata": {},
   "outputs": [],
   "source": [
    "INTRESTING_OMEGAS = (0.5, 0.55, 0.6, 0.65)\n",
    "df_ = exports_diff_df[exports_diff_df.omega.isin(INTRESTING_OMEGAS)].reset_index().sort_values([\"omega\", \"generation\"])\n",
    "fig = px.line(df_,\n",
    "        color=\"country\",\n",
    "        x=\"generation\",\n",
    "        y=\"count_exports\",\n",
    "        facet_col=\"omega\", facet_col_wrap=2,\n",
    "        height=1000,\n",
    "        width=2000,\n",
    "        title=f\"Evolucion de diferencias segun criterio de simulacion en cantidad de exportaciones (por omega)\",\n",
    "        labels={\"count_exports\": \"Diferencia de exportaciones\", \"omega\": \"Omega\", \"generation\": \"Generation\"})\n",
    "fig.for_each_annotation(lambda a: a.update(text=a.text.replace(\"=\", \" = \")))\n",
    "fig.update_yaxes(matches=None, range=[0, df_.count_exports.max()])\n",
    "fig.update_xaxes(matches=None)\n",
    "fig.show()"
   ]
  },
  {
   "cell_type": "markdown",
   "id": "ac04141c",
   "metadata": {},
   "source": [
    "Cabe notar que para $\\Omega = 0.6$ y $0.65$ la el comportamiento entre la version local y la global no sufre grandes cambios, por lo que reclasificamos estos valores como de no interes y subsecuentemente como ambas versiones son indistinguibles para estos valores.\n",
    "\n",
    "No obstante, $\\Omega = 0.5$ y $0.55$ si muestran comportamientos significativamente distintos, por lo que no podemos concluir que la version local y la global tengan indistinguibles. Como lo que esta siendo graficado es global - local y la diferencia es positiva y mayor a 20 productos en la mayoria de los casos, interprestamos que la version global facilita la difusion.\n",
    "\n",
    "Explicamos el comportamiento indistinguible de los casos clasificados como $\\Omega$ poco interesante ya que para estos valores de $\\Omega$ la difusion suele alcanzar maximos por ser muy facil difundir o directamente es muy dificil, entonces la retroalimentacion no aporta el suficiente peso como para contrarrestar los efectos negativos en el desarrollo de nuevos productos.\n",
    "\n",
    "Por ultimo veamos la cantidad de productos exportados. "
   ]
  },
  {
   "cell_type": "code",
   "execution_count": null,
   "id": "284dfdcc",
   "metadata": {},
   "outputs": [],
   "source": [
    "from plotly.subplots import make_subplots\n",
    "import plotly.graph_objects as go\n",
    "\n",
    "paises\n",
    "\n",
    "fig = make_subplots(len(paises), shared_xaxes=True, shared_yaxes=True)\n",
    "\n",
    "for i, pais in enumerate(paises):\n",
    "    global_df_ = exports_global_df[exports_global_df.country == pais]\n",
    "    global_df_.sort_values([\"omega\", \"generation\"])\n",
    "    omegas = set(global_df_.omega)\n",
    "    for omega in omegas:\n",
    "        df_ = global_df_[global_df_.omega==omega].sort_values(\"generation\")\n",
    "        fig.add_trace(\n",
    "            go.Scatter(\n",
    "                x=df_.generation,\n",
    "                y=df_.count_exports,\n",
    "                mode=\"lines\",\n",
    "            ),\n",
    "            row=i+1, col=1,\n",
    "        )\n",
    "\n",
    "fig.show()"
   ]
  },
  {
   "cell_type": "code",
   "execution_count": null,
   "id": "71a3fef6",
   "metadata": {},
   "outputs": [],
   "source": [
    "exports_global_df"
   ]
  },
  {
   "cell_type": "markdown",
   "id": "2e48b8c2",
   "metadata": {},
   "source": [
    "# Pruebas"
   ]
  },
  {
   "cell_type": "code",
   "execution_count": null,
   "id": "2e9de673",
   "metadata": {},
   "outputs": [],
   "source": [
    "exports_global_df_copy = exports_global_df.copy()\n",
    "exports_global_df_copy[\"local\"] = False\n",
    "exports_local_df_copy = exports_local_df.copy()\n",
    "exports_local_df_copy[\"local\"] = True\n",
    "exports_df = exports_global_df_copy.append(exports_local_df)"
   ]
  },
  {
   "cell_type": "code",
   "execution_count": null,
   "id": "b6760890-7577-47ee-854e-12b39a4dd8bf",
   "metadata": {},
   "outputs": [],
   "source": [
    "top_20 = exports_df[exports_df.generation == exports_df.generation.max()].nlargest(n=20, columns=[\"count_exports\"]).country\n",
    "exports_top_20_df = exports_df[exports_df.country.isin(top_20) | (exports_df.country == \"ARG\")]\n",
    "fig = px.line(exports_top_20_df,\n",
    "    x=\"generation\",\n",
    "    y=\"count_exports\",\n",
    "    color=\"country\",\n",
    "    title=f'Productos exportados por pais para los 20 exportadores mas diversificados + ARG (RCA > 1)',\n",
    "    labels={\"count_exports\": \"Exportaciones\", \"generation\": \"Generacion\", \"couintry\": \"Pais\"},\n",
    ")\n",
    "fig.update_yaxes(range=[0, exports_df.count_exports.max()])\n",
    "fig.show()"
   ]
  }
 ],
 "metadata": {
  "interpreter": {
   "hash": "216aaf50a997f91f8fb135dbeb1e7d78b1a179d81139dcdd3582a11ee9e36366"
  },
  "kernelspec": {
   "display_name": "Python 3.10.4 ('product-space')",
   "language": "python",
   "name": "python3"
  },
  "language_info": {
   "codemirror_mode": {
    "name": "ipython",
    "version": 3
   },
   "file_extension": ".py",
   "mimetype": "text/x-python",
   "name": "python",
   "nbconvert_exporter": "python",
   "pygments_lexer": "ipython3",
   "version": "3.10.4"
  }
 },
 "nbformat": 4,
 "nbformat_minor": 5
}
