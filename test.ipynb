{
 "cells": [
  {
   "cell_type": "code",
   "execution_count": 2,
   "id": "2d782ecc-cf45-41f3-9870-bc586465a32a",
   "metadata": {},
   "outputs": [],
   "source": [
    "import pickle\n",
    "import numpy as np\n",
    "\n",
    "data = pickle.load(open(\"data/stage1_data.pkl\", 'rb'))\n",
    "X_mat = data[\"X_matrices\"][2000]\n",
    "(products, countries) = X_mat.shape"
   ]
  },
  {
   "cell_type": "code",
   "execution_count": 62,
   "id": "012ac583-b413-4410-813c-541db21d0f2a",
   "metadata": {},
   "outputs": [
    {
     "data": {
      "text/plain": [
       "array([[1.        , 0.26666667, 0.26666667, ..., 0.        , 0.        ,\n",
       "        0.        ],\n",
       "       [0.26666667, 1.        , 0.2       , ..., 0.        , 0.        ,\n",
       "        0.        ],\n",
       "       [0.26666667, 0.2       , 1.        , ..., 0.        , 0.        ,\n",
       "        0.        ],\n",
       "       ...,\n",
       "       [0.        , 0.        , 0.        , ..., 0.        , 0.        ,\n",
       "        0.        ],\n",
       "       [0.        , 0.        , 0.        , ..., 0.        , 0.        ,\n",
       "        0.        ],\n",
       "       [0.        , 0.        , 0.        , ..., 0.        , 0.        ,\n",
       "        0.        ]])"
      ]
     },
     "execution_count": 62,
     "metadata": {},
     "output_type": "execute_result"
    }
   ],
   "source": [
    "def calculate_phi_matrix(X):\n",
    "    phi = X @ X.T\n",
    "    S = phi.diagonal()#np.sum(X, axis=1) # esto es lo mismo que la diagonal de (X @ X.T)\n",
    "    M = np.reshape(np.ones_like(S), (-1, 1)) @ np.reshape(S, (1, -1))\n",
    "    M = (M * (M >= M.T)) + (M.T * (M < M.T))\n",
    "    return np.divide(phi, M, out=np.zeros_like(phi, dtype=np.float64), where=(M!=0))\n",
    "\n",
    "phi = calculate_phi_matrix(X_mat)\n",
    "phi"
   ]
  },
  {
   "cell_type": "code",
   "execution_count": 64,
   "id": "d335e8ca-a836-472e-9e80-eea34dcaffb3",
   "metadata": {},
   "outputs": [
    {
     "data": {
      "text/plain": [
       "True"
      ]
     },
     "execution_count": 64,
     "metadata": {},
     "output_type": "execute_result"
    }
   ],
   "source": [
    "def phi_form(X, i, j):\n",
    "    sum_prod = 0\n",
    "    sum_i = 0\n",
    "    sum_j = 0\n",
    "    for c in range(countries):\n",
    "        sum_prod += X[i,c] * X[j,c]\n",
    "        sum_i += X[i,c]\n",
    "        sum_j += X[j,c]\n",
    "    return min(0 if sum_i ==0 else (sum_prod/sum_i), 0 if sum_j==0 else sum_prod/sum_j)\n",
    "(np.array([\n",
    "    np.array([phi_form(X_mat,i,j)\n",
    "    for i in range(0,20)])\n",
    "    for j in range(0,20)\n",
    "]) == phi[0:20, 0:20]).all()\n"
   ]
  },
  {
   "cell_type": "code",
   "execution_count": null,
   "id": "e7fe539f-da16-4e7a-aaa8-67f158790050",
   "metadata": {},
   "outputs": [],
   "source": []
  }
 ],
 "metadata": {
  "kernelspec": {
   "display_name": "Python 3 (ipykernel)",
   "language": "python",
   "name": "python3"
  },
  "language_info": {
   "codemirror_mode": {
    "name": "ipython",
    "version": 3
   },
   "file_extension": ".py",
   "mimetype": "text/x-python",
   "name": "python",
   "nbconvert_exporter": "python",
   "pygments_lexer": "ipython3",
   "version": "3.10.4"
  }
 },
 "nbformat": 4,
 "nbformat_minor": 5
}
