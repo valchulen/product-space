{
 "cells": [
  {
   "cell_type": "markdown",
   "id": "60bb89b3-8774-4a8a-b02a-c60234369d9c",
   "metadata": {},
   "source": [
    "## Carga de datos"
   ]
  },
  {
   "cell_type": "code",
   "execution_count": null,
   "id": "33a1d3e9-9074-4d1c-a283-4c334a162585",
   "metadata": {},
   "outputs": [],
   "source": [
    "import pandas as pd\n",
    "import numpy as np\n",
    "import pickle as pkl\n",
    "import plotly.express as px\n"
   ]
  },
  {
   "cell_type": "code",
   "execution_count": null,
   "id": "42fb6919-4091-4435-ae2c-530776f9a9fb",
   "metadata": {},
   "outputs": [],
   "source": [
    "UNINTRESTING_OMEGAS = (0.1, 0.2, 0.3, 0.4, 0.6, 0.65, 0.8, 0.9)\n",
    "INTRESTING_OMEGAS = (0.5, 0.55)\n",
    "\n",
    "\n",
    "## CARGA DE DATOS PARA MEDIR DIFERENCIAS ENRTRE CRITERIOS\n",
    "exports_diff_dfs = []\n",
    "exports_global_dfs = []\n",
    "exports_local_dfs = []\n",
    "for omega in list(UNINTRESTING_OMEGAS) + list(INTRESTING_OMEGAS):\n",
    "    exports_global_df = pd.read_csv(f\"experimentacion/metrics-original-data-true-{omega}/exports.csv\")\n",
    "    exports_global_df[\"omega\"] = omega\n",
    "    exports_global_df.set_index([\"country\", \"generation\"], inplace=True)\n",
    "    exports_global_dfs.append(exports_global_df)\n",
    "\n",
    "    exports_local_df = pd.read_csv(f\"experimentacion/metrics-original-data-false-{omega}/exports.csv\")\n",
    "    exports_local_df[\"omega\"] = omega\n",
    "    exports_local_df.set_index([\"country\", \"generation\"], inplace=True)\n",
    "    exports_local_dfs.append(exports_local_df)\n",
    "\n",
    "    exports_diff_df = exports_global_df - exports_local_df\n",
    "    exports_diff_df[\"omega\"] = omega\n",
    "\n",
    "    exports_diff_dfs.append(exports_diff_df)\n",
    "\n",
    "exports_diff_df = pd.concat(exports_diff_dfs)\n",
    "exports_diff_df.reset_index(inplace=True)\n",
    "\n",
    "exports_global_df = pd.concat(exports_global_dfs)\n",
    "exports_global_df.reset_index(inplace=True)\n",
    "\n",
    "exports_local_df = pd.concat(exports_local_dfs)\n",
    "exports_local_df.reset_index(inplace=True)\n",
    "\n",
    "exports_diff_df"
   ]
  },
  {
   "cell_type": "code",
   "execution_count": null,
   "id": "ea5288f1-b5e9-43ce-9818-615beddd0952",
   "metadata": {},
   "outputs": [],
   "source": [
    "exports_global_df_copy = exports_global_df.copy()\n",
    "exports_global_df_copy[\"dynamic\"] = True\n",
    "exports_local_df_copy = exports_local_df.copy()\n",
    "exports_local_df_copy[\"dynamic\"] = False\n",
    "exports_df = pd.concat([exports_local_df_copy, exports_global_df_copy])\n",
    "exports_df"
   ]
  },
  {
   "cell_type": "code",
   "execution_count": null,
   "id": "ecde8bf9-cf06-4c70-a235-7ced4f1a1366",
   "metadata": {},
   "outputs": [],
   "source": [
    "original_data = pkl.load(open(\"data/original_data.pkl\", \"rb\"))\n",
    "len(original_data[\"products\"]), len(original_data[\"countries\"])"
   ]
  },
  {
   "cell_type": "code",
   "execution_count": null,
   "id": "82077fe8-bd9b-4c80-9afd-6c31329f60dc",
   "metadata": {},
   "outputs": [],
   "source": [
    "print(original_data[\"countries\"])"
   ]
  },
  {
   "cell_type": "markdown",
   "id": "ae40c6ee-26aa-4e42-a44e-0f43be2ad20b",
   "metadata": {},
   "source": [
    "## Gráficos PS fijo"
   ]
  },
  {
   "cell_type": "code",
   "execution_count": null,
   "id": "dddb8ca0-8142-4440-abb6-bb54fc6557d9",
   "metadata": {},
   "outputs": [],
   "source": [
    "paises = set([\"Argentina\", \"Brazil\", \"Korea Rep.\", \"Germany\"])\n",
    "\n",
    "# Criterio local\n",
    "df = exports_local_df[\n",
    "    exports_local_df.country.isin(paises) &\n",
    "    exports_local_df.omega.isin([0.4,0.5,0.55,0.6,0.65]) &\n",
    "    (exports_local_df.generation <= 10)\n",
    "]\n",
    "df"
   ]
  },
  {
   "cell_type": "code",
   "execution_count": null,
   "id": "7a2016e9-d6be-43a4-8e68-170f47e3fce6",
   "metadata": {},
   "outputs": [],
   "source": [
    "fig = px.line(df,\n",
    "            x=\"generation\",\n",
    "            y=\"count_exports\",\n",
    "            color=\"omega\",\n",
    "            facet_col=\"country\",\n",
    "            facet_col_wrap=2,\n",
    "            height=600,\n",
    "#            title=\"Cantidad de exportaciones en función de la generación por país y omega para variante local\",\n",
    "            labels={\n",
    "                \"count_exports\": \"Exports quantity\",\n",
    "                \"generation\": \"Simulation steps\",\n",
    "                \"country\": \"Country\",\n",
    "                \"omega\": \"Threshold\",\n",
    "            })\n",
    "fig.for_each_annotation(lambda a: a.update(text=a.text.replace(\"=\", \" = \")))\n",
    "#fig.add_vline(x=10, annotation_text=\"Fin sugerido de la simulación\", annotation_position=\"bottom right\")\n",
    "fig.add_hline(y=len(original_data[\"products\"]), annotation_text=\"Products quantity\", opacity=.25)\n",
    "fig.show()"
   ]
  },
  {
   "cell_type": "code",
   "execution_count": null,
   "id": "9abc5252-b9a5-4149-a52a-09c7e8f054ca",
   "metadata": {},
   "outputs": [],
   "source": [
    "from metrics.product_space_graph import ProductSpaceGraph\n",
    "graph_local = ProductSpaceGraph(\"experimentacion/original-data-local-0.55/exports_history.pkl\")"
   ]
  },
  {
   "cell_type": "code",
   "execution_count": null,
   "id": "0ca35b33-cf9b-47e7-ad51-488f6912b3ca",
   "metadata": {},
   "outputs": [],
   "source": [
    "graph_local.plot(\"Argentina\", legend_title=\"Simulation steps\", figsize=(9,7))"
   ]
  },
  {
   "cell_type": "markdown",
   "id": "76748ff8-0ae8-408f-9c73-45729503cb95",
   "metadata": {},
   "source": [
    "## Gráficos PS fijo vs dinámico"
   ]
  },
  {
   "cell_type": "code",
   "execution_count": null,
   "id": "bb1c1cd8-4e4b-4b68-bbe5-f27f0a3e96af",
   "metadata": {},
   "outputs": [],
   "source": [
    "df_ = (exports_df\n",
    " .set_index([\"generation\", \"country\", \"omega\"])\n",
    " .loc[max(exports_diff_df.generation)]\n",
    " .reset_index()\n",
    " .sort_values(\"omega\")\n",
    ")\n",
    "\n",
    "mean_df = df_.groupby([\"omega\",\"dynamic\"]).mean().reset_index()\n",
    "mean_df[\"country\"] = \"World mean\"\n",
    "df_ = pd.concat([df_, mean_df])\n",
    "df_ = df_[df_.country.isin([\"Argentina\", \"World mean\", \"Germany\"])]\n",
    "fig = px.line(\n",
    "    df_,\n",
    "    x=\"omega\",\n",
    "    y=\"count_exports\",\n",
    "    color=\"country\",\n",
    "    line_dash=\"dynamic\",\n",
    "    markers=True,\n",
    "    height=600,\n",
    "    range_y=[0,800],\n",
    "#    title=\"Exportaciones por país y variante de simulación\",\n",
    "    labels={\n",
    "        \"count_exports\": \"Exports quantity\",\n",
    "        \"country\": \"Country\",\n",
    "        \"omega\": \"Threshold\",\n",
    "        \"dynamic\": \"Dynamic?\"\n",
    "    },\n",
    ")\n",
    "fig.for_each_annotation(lambda a: a.update(text=a.text.replace(\"=\", \" = \")))\n",
    "fig.add_hline(y=len(original_data[\"products\"]), annotation_text=\"Products quantity\", opacity=.25)\n",
    "fig.show()"
   ]
  },
  {
   "cell_type": "code",
   "execution_count": null,
   "id": "8ce9b0da-6ff5-4c62-9cbe-216bd3c2463b",
   "metadata": {},
   "outputs": [],
   "source": [
    "max_diff_df = (\n",
    "    exports_diff_df\n",
    "    .set_index([\"generation\", \"country\", \"omega\"])\n",
    "    .loc[max(exports_diff_df.generation)]\n",
    "    .max(axis=1)\n",
    ")\n",
    "max_diff_df.rename(\"difference\", inplace=True)\n",
    "fig = px.box(\n",
    "    max_diff_df.reset_index(),\n",
    "    x=\"omega\",\n",
    "    y=\"difference\",\n",
    "#    title=f\"Distribucion de la ventaja de la variante global respecto a la variante local<br>según omega para todos los países (ultima generacion)\",\n",
    "    labels={\n",
    "        \"difference\": \"Difference between models\",\n",
    "        \"omega\": \"Threshold\"})\n",
    "fig.show()"
   ]
  },
  {
   "cell_type": "code",
   "execution_count": null,
   "id": "5b4aa034-9021-41a6-a86f-8882b0bbdb57",
   "metadata": {},
   "outputs": [],
   "source": []
  }
 ],
 "metadata": {
  "kernelspec": {
   "display_name": ".venv",
   "language": "python",
   "name": ".venv"
  },
  "language_info": {
   "codemirror_mode": {
    "name": "ipython",
    "version": 3
   },
   "file_extension": ".py",
   "mimetype": "text/x-python",
   "name": "python",
   "nbconvert_exporter": "python",
   "pygments_lexer": "ipython3",
   "version": "3.9.2"
  }
 },
 "nbformat": 4,
 "nbformat_minor": 5
}
