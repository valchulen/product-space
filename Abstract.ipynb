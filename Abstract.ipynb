{
 "cells": [
  {
   "cell_type": "markdown",
   "id": "60bb89b3-8774-4a8a-b02a-c60234369d9c",
   "metadata": {},
   "source": [
    "## Carga de datos"
   ]
  },
  {
   "cell_type": "code",
   "execution_count": null,
   "id": "33a1d3e9-9074-4d1c-a283-4c334a162585",
   "metadata": {},
   "outputs": [],
   "source": [
    "import pandas as pd\n",
    "import numpy as np\n",
    "import pickle as pkl\n",
    "import plotly.express as px\n",
    "import matplotlib.pyplot as plt\n",
    "from plotly.subplots import make_subplots\n",
    "\n",
    "idpi = 1/plt.rcParams['figure.dpi']"
   ]
  },
  {
   "cell_type": "code",
   "execution_count": null,
   "id": "42fb6919-4091-4435-ae2c-530776f9a9fb",
   "metadata": {},
   "outputs": [],
   "source": [
    "UNINTRESTING_OMEGAS = (0.1, 0.2, 0.3, 0.4, 0.6, 0.65, 0.8, 0.9)\n",
    "INTRESTING_OMEGAS = (0.5, 0.55)\n",
    "\n",
    "\n",
    "## CARGA DE DATOS PARA MEDIR DIFERENCIAS ENRTRE CRITERIOS\n",
    "exports_diff_dfs = []\n",
    "exports_global_dfs = []\n",
    "exports_local_dfs = []\n",
    "for omega in list(UNINTRESTING_OMEGAS) + list(INTRESTING_OMEGAS):\n",
    "    exports_global_df = pd.read_csv(f\"experimentacion/metrics-original-data-true-{omega}/exports.csv\")\n",
    "    exports_global_df[\"omega\"] = omega\n",
    "    exports_global_df.set_index([\"country\", \"generation\"], inplace=True)\n",
    "    exports_global_dfs.append(exports_global_df)\n",
    "\n",
    "    exports_local_df = pd.read_csv(f\"experimentacion/metrics-original-data-false-{omega}/exports.csv\")\n",
    "    exports_local_df[\"omega\"] = omega\n",
    "    exports_local_df.set_index([\"country\", \"generation\"], inplace=True)\n",
    "    exports_local_dfs.append(exports_local_df)\n",
    "\n",
    "    exports_diff_df = exports_global_df - exports_local_df\n",
    "    exports_diff_df[\"omega\"] = omega\n",
    "\n",
    "    exports_diff_dfs.append(exports_diff_df)\n",
    "\n",
    "exports_diff_df = pd.concat(exports_diff_dfs)\n",
    "exports_diff_df.reset_index(inplace=True)\n",
    "\n",
    "exports_global_df = pd.concat(exports_global_dfs)\n",
    "exports_global_df.reset_index(inplace=True)\n",
    "\n",
    "exports_local_df = pd.concat(exports_local_dfs)\n",
    "exports_local_df.reset_index(inplace=True)\n",
    "\n",
    "exports_diff_df"
   ]
  },
  {
   "cell_type": "code",
   "execution_count": null,
   "id": "ea5288f1-b5e9-43ce-9818-615beddd0952",
   "metadata": {},
   "outputs": [],
   "source": [
    "exports_global_df_copy = exports_global_df.copy()\n",
    "exports_global_df_copy[\"dynamic\"] = True\n",
    "exports_local_df_copy = exports_local_df.copy()\n",
    "exports_local_df_copy[\"dynamic\"] = False\n",
    "exports_df = pd.concat([exports_local_df_copy, exports_global_df_copy])\n",
    "exports_df"
   ]
  },
  {
   "cell_type": "code",
   "execution_count": null,
   "id": "ecde8bf9-cf06-4c70-a235-7ced4f1a1366",
   "metadata": {},
   "outputs": [],
   "source": [
    "original_data = pkl.load(open(\"data/original_data.pkl\", \"rb\"))\n",
    "len(original_data[\"products\"]), len(original_data[\"countries\"])"
   ]
  },
  {
   "cell_type": "code",
   "execution_count": null,
   "id": "82077fe8-bd9b-4c80-9afd-6c31329f60dc",
   "metadata": {},
   "outputs": [],
   "source": [
    "print(original_data[\"countries\"])"
   ]
  },
  {
   "cell_type": "markdown",
   "id": "ae40c6ee-26aa-4e42-a44e-0f43be2ad20b",
   "metadata": {},
   "source": [
    "## Gráficos PS fijo"
   ]
  },
  {
   "cell_type": "code",
   "execution_count": null,
   "id": "dddb8ca0-8142-4440-abb6-bb54fc6557d9",
   "metadata": {},
   "outputs": [],
   "source": [
    "#paises = set([\"Argentina\", \"Brazil\", \"Korea Rep.\", \"Germany\"])\n",
    "paises = set([\"Argentina\", \"Germany\"])\n",
    "\n",
    "# Criterio local\n",
    "df = exports_df[\n",
    "    exports_df.country.isin(paises) &\n",
    "    exports_df.omega.isin([0.4,0.5,0.55,0.6,0.65]) &\n",
    "    (exports_df.generation <= 10)\n",
    "].copy()\n",
    "df[\"dynamic\"] = df.dynamic.apply(lambda is_dynamic: \"DPS\" if is_dynamic else \"SPS\")\n",
    "df = df.sort_values(\"dynamic\")\n",
    "df"
   ]
  },
  {
   "cell_type": "code",
   "execution_count": null,
   "id": "7a2016e9-d6be-43a4-8e68-170f47e3fce6",
   "metadata": {},
   "outputs": [],
   "source": [
    "fig = px.line(df.sort_values([\"country\", \"generation\", \"omega\"]),\n",
    "            x=\"generation\",\n",
    "            y=\"count_exports\",\n",
    "            color=\"omega\",\n",
    "            facet_col=\"country\",\n",
    "            facet_col_wrap=1,\n",
    "            height=800,\n",
    "            width=400,\n",
    "            line_dash=\"dynamic\",\n",
    "            title= r\"$\\text{Products exported in time with different }\\Omega$\",\n",
    "            #            title=\"Cantidad de exportaciones en función de la generación por país y omega para variante local\",\n",
    "            labels={\n",
    "                \"count_exports\": \"Exports quantity\",\n",
    "                \"generation\": \"Simulation steps\",\n",
    "                \"country\": \"Country\"\n",
    "            })\n",
    "#fig.for_each_annotation(lambda a: a.update(text=a.text.replace(\"=\", \" = \")))\n",
    "#fig.add_vline(x=10, annotation_text=\"Fin sugerido de la simulación\", annotation_position=\"bottom right\")\n",
    "#fig.add_hline(y=len(original_data[\"products\"]), annotation_text=\"Products quantity\", opacity=.25)\n",
    "\n",
    "fig.update_layout(\n",
    "    xaxis = dict(\n",
    "        tickmode = 'linear',\n",
    "        tick0 = 0,\n",
    "        dtick = 1\n",
    "    ),\n",
    "    xaxis2 = dict(\n",
    "        tickmode = 'linear',\n",
    "        tick0 = 0,\n",
    "        dtick = 1\n",
    "    ),\n",
    "    legend_title=\"\"\n",
    ")\n",
    "\n",
    "def transform_trace(trace):\n",
    "    if not trace.legendgroup.startswith(\"0.55\"):\n",
    "        trace.line.width = 1 # Por default es 2\n",
    "    else:\n",
    "        trace.line.width = 3 # Por default es 2\n",
    "\n",
    "fig.for_each_trace(transform_trace)\n",
    "\n",
    "fig.update_layout(dict(\n",
    "    legend=dict(orientation=\"h\")\n",
    "))\n",
    "\n",
    "fig.show()"
   ]
  },
  {
   "cell_type": "code",
   "execution_count": null,
   "id": "2403bca9-ed66-420b-abf3-6e7ab86610d9",
   "metadata": {},
   "outputs": [],
   "source": [
    "fig = px.line(df.sort_values([\"country\", \"generation\", \"omega\"]),\n",
    "            x=\"generation\",\n",
    "            y=\"count_exports\",\n",
    "            color=\"omega\",\n",
    "            facet_col=\"country\",\n",
    "            facet_col_wrap=2,\n",
    "            height=600,\n",
    "            width=800,\n",
    "            line_dash=\"dynamic\",\n",
    "            title= r\"$\\text{Products exported in time with different }\\Omega$\",\n",
    "            #            title=\"Cantidad de exportaciones en función de la generación por país y omega para variante local\",\n",
    "            labels={\n",
    "                \"count_exports\": \"Exports quantity\",\n",
    "                \"generation\": \"Simulation steps\",\n",
    "                \"country\": \"Country\"\n",
    "            },\n",
    "            facet_col_spacing=0.05)\n",
    "#fig.for_each_annotation(lambda a: a.update(text=a.text.replace(\"=\", \" = \")))\n",
    "#fig.add_vline(x=10, annotation_text=\"Fin sugerido de la simulación\", annotation_position=\"bottom right\")\n",
    "#fig.add_hline(y=len(original_data[\"products\"]), annotation_text=\"Products quantity\", opacity=.25)\n",
    "\n",
    "fig.update_layout(\n",
    "    xaxis = dict(\n",
    "        tickmode = 'linear',\n",
    "        tick0 = 0,\n",
    "        dtick = 1\n",
    "    ),\n",
    "    xaxis2 = dict(\n",
    "        tickmode = 'linear',\n",
    "        tick0 = 0,\n",
    "        dtick = 1\n",
    "    ),\n",
    "    legend_title=\"\"\n",
    ")\n",
    "\n",
    "def transform_trace(trace):\n",
    "    if not trace.legendgroup.startswith(\"0.55\"):\n",
    "        trace.line.width = 1 # Por default es 2\n",
    "    else:\n",
    "        trace.line.width = 3 # Por default es 2\n",
    "\n",
    "fig.for_each_trace(transform_trace)\n",
    "\n",
    "fig.update_layout(dict(\n",
    "    legend=dict(orientation=\"h\")\n",
    "))\n",
    "\n",
    "fig.show()"
   ]
  },
  {
   "cell_type": "code",
   "execution_count": null,
   "id": "9abc5252-b9a5-4149-a52a-09c7e8f054ca",
   "metadata": {},
   "outputs": [],
   "source": [
    "from metrics.product_space_graph import ProductSpaceGraph\n",
    "graph_local = ProductSpaceGraph(\"experimentacion/original-data-local-0.55/exports_history.pkl\")"
   ]
  },
  {
   "cell_type": "code",
   "execution_count": null,
   "id": "5e42f0de-55e8-492d-b749-824c7e546604",
   "metadata": {},
   "outputs": [],
   "source": [
    "arg_t4=graph_local.exports_by_country.loc[\"Argentina\"].exports[4].sum()\n",
    "arg_t0=graph_local.exports_by_country.loc[\"Argentina\"].exports[0].sum()\n",
    "ger_t4=graph_local.exports_by_country.loc[\"Germany\"].exports[4].sum()\n",
    "ger_t0=graph_local.exports_by_country.loc[\"Germany\"].exports[0].sum()\n",
    "\n",
    "(f\"Argentina SPS: {round((arg_t4-arg_t0)/arg_t0*100, 1)}%\",\n",
    " f\"Germany SPS: {round((ger_t4-ger_t0)/ger_t0*100,1)}%\")"
   ]
  },
  {
   "cell_type": "code",
   "execution_count": null,
   "id": "80340261-a031-4651-93c1-2d0baa243e6d",
   "metadata": {},
   "outputs": [],
   "source": [
    "ger_t4-ger_t0, ger_t0"
   ]
  },
  {
   "cell_type": "code",
   "execution_count": null,
   "id": "b3143cf7-1529-456c-8b28-3de3bc07da9d",
   "metadata": {},
   "outputs": [],
   "source": [
    "arg_t4-arg_t0,arg_t0"
   ]
  },
  {
   "cell_type": "code",
   "execution_count": null,
   "id": "0ca35b33-cf9b-47e7-ad51-488f6912b3ca",
   "metadata": {},
   "outputs": [],
   "source": [
    "graph_local.plot(\"Argentina\", title=\"Argentina, SPS with $\\Omega = 0.55$\", legend_title=\"Simulation steps\",\n",
    "                 figsize=(500*idpi,500*idpi), node_size=5)"
   ]
  },
  {
   "cell_type": "code",
   "execution_count": null,
   "id": "cc81d11c-7fe4-4a76-9233-3a904e88f469",
   "metadata": {},
   "outputs": [],
   "source": [
    "graph_local.plot(\"Germany\", title=\"Germany, SPS with $\\Omega = 0.55$\", legend_title=\"Simulation steps\",\n",
    "                 figsize=(500*idpi,500*idpi), node_size=5)"
   ]
  },
  {
   "cell_type": "code",
   "execution_count": null,
   "id": "1843e768-499b-4e6b-a532-cd3245141541",
   "metadata": {},
   "outputs": [],
   "source": [
    "from metrics.product_space_graph import ProductSpaceGraph\n",
    "graph_global = ProductSpaceGraph(\"experimentacion/original-data-global-0.55/exports_history.pkl\")\n",
    "(graph_local.product_discovery(\"Argentina\") == 6.0).sum()"
   ]
  },
  {
   "cell_type": "code",
   "execution_count": null,
   "id": "13174eb5-6315-4109-95e6-69d7b250bb6d",
   "metadata": {},
   "outputs": [],
   "source": [
    "arg_t5=graph_global.exports_by_country.loc[\"Argentina\"].exports[5].sum()\n",
    "arg_t0=graph_global.exports_by_country.loc[\"Argentina\"].exports[0].sum()\n",
    "ger_t5=graph_global.exports_by_country.loc[\"Germany\"].exports[5].sum()\n",
    "ger_t0=graph_global.exports_by_country.loc[\"Germany\"].exports[0].sum()\n",
    "\n",
    "(f\"Argentina DPS: {round((arg_t5-arg_t0)/arg_t0*100, 1)}%\",\n",
    " f\"Germany DPS: {round((ger_t5-ger_t0)/ger_t0*100,1)}%\")"
   ]
  },
  {
   "cell_type": "code",
   "execution_count": null,
   "id": "ff9c4c25-9d43-4bc6-87c6-ea597c4279f3",
   "metadata": {},
   "outputs": [],
   "source": [
    "graph_global.plot(\"Argentina\", title=\"Argentina, DPS with $\\Omega = 0.55$\",\n",
    "                 figsize=(500*idpi,500*idpi), node_size=5)"
   ]
  },
  {
   "cell_type": "code",
   "execution_count": null,
   "id": "48edf65d-ebe1-4dd3-8d81-40ecc8eedb1d",
   "metadata": {},
   "outputs": [],
   "source": [
    "graph_global.plot(\"Germany\", title=\"Germany, DPS with $\\Omega = 0.55$\",\n",
    "                 figsize=(500*idpi,500*idpi), node_size=5)"
   ]
  },
  {
   "cell_type": "markdown",
   "id": "76748ff8-0ae8-408f-9c73-45729503cb95",
   "metadata": {},
   "source": [
    "## Gráficos PS fijo vs dinámico"
   ]
  },
  {
   "cell_type": "code",
   "execution_count": null,
   "id": "bb1c1cd8-4e4b-4b68-bbe5-f27f0a3e96af",
   "metadata": {},
   "outputs": [],
   "source": [
    "df_ = (exports_df\n",
    " .set_index([\"generation\", \"country\", \"omega\"])\n",
    " .loc[max(exports_diff_df.generation)]\n",
    " .reset_index()\n",
    " .sort_values(\"omega\")\n",
    ")\n",
    "\n",
    "mean_df = df_.groupby([\"omega\",\"dynamic\"]).mean().reset_index()\n",
    "mean_df[\"country\"] = \"World mean\"\n",
    "df_ = pd.concat([df_, mean_df])\n",
    "df_ = df_[df_.country.isin([\"Argentina\", \"World mean\", \"Germany\"])]\n",
    "df_[\"dynamic\"] = df_.dynamic.apply(lambda is_dynamic: \"DPS\" if is_dynamic else \"SPS\")\n",
    "fig = px.line(\n",
    "    df_,\n",
    "    x=\"omega\",\n",
    "    y=\"count_exports\",\n",
    "    color=\"country\",\n",
    "    line_dash=\"dynamic\",\n",
    "    markers=True,\n",
    "    height=600,\n",
    "    range_y=[0,800],\n",
    "#    title=\"Exportaciones por país y variante de simulación\",\n",
    "    labels={\n",
    "        \"count_exports\": \"Exports quantity\",\n",
    "        \"country\": \"Country\",\n",
    "        \"omega\": \"$\\Omega$\",\n",
    "        \"dynamic\": \"Dynamic?\"\n",
    "    },\n",
    ")\n",
    "fig.for_each_annotation(lambda a: a.update(text=a.text.replace(\"=\", \" = \")))\n",
    "fig.add_hline(y=len(original_data[\"products\"]), annotation_text=\"Products quantity\", opacity=.25)\n",
    "fig.show()"
   ]
  },
  {
   "cell_type": "code",
   "execution_count": null,
   "id": "8ce9b0da-6ff5-4c62-9cbe-216bd3c2463b",
   "metadata": {},
   "outputs": [],
   "source": [
    "max_diff_df = (\n",
    "    exports_diff_df\n",
    "    .set_index([\"generation\", \"country\", \"omega\"])\n",
    "    .loc[max(exports_diff_df.generation)]\n",
    "    .max(axis=1)\n",
    ")\n",
    "max_diff_df.rename(\"difference\", inplace=True)\n",
    "fig = px.box(\n",
    "    max_diff_df.reset_index(),\n",
    "    x=\"omega\",\n",
    "    y=\"difference\",\n",
    "#    title=f\"Distribucion de la ventaja de la variante global respecto a la variante local<br>según omega para todos los países (ultima generacion)\",\n",
    "    labels={\n",
    "        \"difference\": \"Difference between models\",\n",
    "        \"omega\": \"$\\Omega$\"})\n",
    "fig.show()"
   ]
  },
  {
   "cell_type": "code",
   "execution_count": null,
   "id": "b9593978-cf98-4143-822b-2adb9383c994",
   "metadata": {},
   "outputs": [],
   "source": [
    "fig = make_subplots(rows=2, cols=1,\n",
    "                    shared_xaxes=True,\n",
    "                    row_heights=[70,30],\n",
    "                    vertical_spacing=0.05,\n",
    "                    subplot_titles=[\n",
    "                        \"Products exported with DPS vs SPS\",\n",
    "                        \"Extra products exported with DPS\"\n",
    "                    ])\n",
    "fig.update_layout(\n",
    "    autosize=False,\n",
    "    width=800,\n",
    "    height=800,)\n",
    "fig1 = px.line(\n",
    "    df_,\n",
    "    x=\"omega\",\n",
    "    y=\"count_exports\",\n",
    "    color=\"country\",\n",
    "    line_dash=\"dynamic\",\n",
    "    markers=True,\n",
    "    height=600,\n",
    "    range_y=[0,800],\n",
    "#    title=\"Exportaciones por país y variante de simulación\"\n",
    ")\n",
    "\n",
    "for trace in fig1[\"data\"]:\n",
    "    #print(trace)\n",
    "    fig.append_trace(trace, row=1, col=1)\n",
    "\n",
    "fig2 = px.box(\n",
    "    max_diff_df.reset_index(),\n",
    "    x=\"omega\",\n",
    "    y=\"difference\",\n",
    "#    title=f\"Distribucion de la ventaja de la variante global respecto a la variante local<br>según omega para todos los países (ultima generacion)\",\n",
    "    labels={\n",
    "        \"difference\": \"Difference between models\",\n",
    "        \"omega\": \"Threshold\"})\n",
    "\n",
    "for trace in fig2[\"data\"]:\n",
    "    fig.append_trace(trace, row=2, col=1)\n",
    "fig.update_layout(margin=dict(l=50,r=50,b=50,t=50))\n",
    "fig.update_layout(\n",
    "    xaxis = dict(\n",
    "        tickmode = 'linear',\n",
    "        tick0 = 0.1,\n",
    "        dtick = 0.1\n",
    "    ), xaxis2 = dict(\n",
    "        tickmode = 'linear',\n",
    "        tick0 = 0.1,\n",
    "        dtick = 0.1,\n",
    "        title = \"$\\Omega$\"\n",
    "    ),\n",
    "    yaxis = dict(title=\"Exports quantity\"),\n",
    "    yaxis2 = dict(title=\"Exports quantity difference\"),\n",
    "    legend=dict(\n",
    "        x=0.78,\n",
    "        y=0.98,\n",
    "        traceorder='normal'\n",
    "    ),\n",
    ")\n",
    "\n",
    "fig.show()"
   ]
  },
  {
   "cell_type": "code",
   "execution_count": null,
   "id": "29b8491a-8ffe-48d7-961b-3cb98d9a279e",
   "metadata": {},
   "outputs": [],
   "source": []
  }
 ],
 "metadata": {
  "kernelspec": {
   "display_name": ".venv",
   "language": "python",
   "name": ".venv"
  },
  "language_info": {
   "codemirror_mode": {
    "name": "ipython",
    "version": 3
   },
   "file_extension": ".py",
   "mimetype": "text/x-python",
   "name": "python",
   "nbconvert_exporter": "python",
   "pygments_lexer": "ipython3",
   "version": "3.9.2"
  }
 },
 "nbformat": 4,
 "nbformat_minor": 5
}
