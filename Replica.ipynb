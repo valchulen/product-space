{
 "cells": [
  {
   "cell_type": "code",
   "execution_count": null,
   "id": "b6955fa2-6e6c-4dad-946e-c801adb68a09",
   "metadata": {},
   "outputs": [],
   "source": [
    "from metrics.product_space_graph import ProductSpaceGraph\n",
    "import pickle\n",
    "import pandas as pd\n",
    "import numpy as np\n",
    "omegas = [\"0.55\", \"0.6\", \"0.65\"]"
   ]
  },
  {
   "cell_type": "code",
   "execution_count": null,
   "id": "01e3c047-3571-491b-bcfb-fd9c7c5b9f8e",
   "metadata": {},
   "outputs": [],
   "source": [
    "graphs = [\n",
    "    ProductSpaceGraph(f\"experimentacion/local-{omega}/exports_history.pkl\")\n",
    "    for omega in omegas\n",
    "]"
   ]
  },
  {
   "cell_type": "code",
   "execution_count": null,
   "id": "7c1dfcc4-dda5-41d9-a5c2-ac587ed8edf3",
   "metadata": {},
   "outputs": [],
   "source": [
    "graphs[0].plot(\"KOR\", \"Proceso de difusión con criterio local en Chile, Omega = 0.55\")"
   ]
  },
  {
   "cell_type": "code",
   "execution_count": null,
   "id": "dbf7cd2a-46f3-48a7-8045-c3ad7fb7c761",
   "metadata": {},
   "outputs": [],
   "source": [
    "graphs[1].plot(\"KOR\", \"Proceso de difusión con criterio local en Chile, Omega = 0.6\")"
   ]
  },
  {
   "cell_type": "code",
   "execution_count": null,
   "id": "bd2c59ec-e1ed-4868-8544-61479c6411f4",
   "metadata": {},
   "outputs": [],
   "source": [
    "graphs[2].plot(\"KOR\", \"Proceso de difusión con criterio local en Chile, Omega = 0.65\")"
   ]
  },
  {
   "cell_type": "code",
   "execution_count": null,
   "id": "60ee6b95-14ce-4c62-a673-56cda36e334d",
   "metadata": {},
   "outputs": [],
   "source": [
    "graphs[0].plot(\"CHL\", \"Proceso de difusión con criterio local en Chile, Omega = 0.55\")"
   ]
  },
  {
   "cell_type": "code",
   "execution_count": null,
   "id": "489125f6-3890-4874-8880-7abde8e4262b",
   "metadata": {},
   "outputs": [],
   "source": [
    "graphs[1].plot(\"CHL\", \"Proceso de difusión con criterio local en Chile, Omega = 0.6\")"
   ]
  },
  {
   "cell_type": "code",
   "execution_count": null,
   "id": "ccb31ebd-89a0-4ff9-bfd2-15575424d4db",
   "metadata": {},
   "outputs": [],
   "source": [
    "graphs[2].plot(\"CHL\", \"Proceso de difusión con criterio local en Chile, Omega = 0.65\")"
   ]
  },
  {
   "cell_type": "code",
   "execution_count": null,
   "id": "f47a1403-2dee-4c7d-b1b7-16a2d2102010",
   "metadata": {},
   "outputs": [],
   "source": [
    "from models.product_space import exports_to_phi\n",
    "exports = graphs[0].exports_by_generation.loc[(0, \"CHL\")].exports\n",
    "phi = exports_to_phi(graphs[0].X_by_generation(0))\n",
    "phi"
   ]
  },
  {
   "cell_type": "code",
   "execution_count": null,
   "id": "0d66a638-6078-4e4a-8a09-ce96e00e664e",
   "metadata": {},
   "outputs": [],
   "source": [
    "def iterate(exports, omega):\n",
    "    return exports | (1 * ((phi @ np.diagflat(exports)).max(1) >= omega))\n",
    "\n",
    "# dist[i] = max_j(phi[i,j] * exports[j]\n",
    "#dist = [\n",
    "#    max([phi[i][j] * exports[j] for j in range(exports.shape[0])\n",
    "#        ])\n",
    "#    for i in range(exports.shape[0])\n",
    "#]\n",
    "#((dist - (phi @ np.diagflat(exports)).max(1)) < 0.0001).all()"
   ]
  },
  {
   "cell_type": "code",
   "execution_count": null,
   "id": "e9e31035-298a-42e4-aa85-db4e6c240f92",
   "metadata": {},
   "outputs": [],
   "source": [
    "simu = [exports]\n",
    "for _ in range(5):\n",
    "    simu.append(iterate(simu[-1], 0.55))\n",
    "[sim.sum() for sim in simu]"
   ]
  },
  {
   "cell_type": "code",
   "execution_count": null,
   "id": "f234aee8-9c6b-4897-bdb1-a8fabb176f8e",
   "metadata": {},
   "outputs": [],
   "source": [
    "import networkx as nx\n",
    "import matplotlib.pyplot as plt"
   ]
  },
  {
   "cell_type": "code",
   "execution_count": null,
   "id": "18afd442-d331-4360-b3da-68e7c82bf399",
   "metadata": {},
   "outputs": [],
   "source": [
    "def largest_comp(omega):\n",
    "    G = nx.from_numpy_matrix(1* (phi > omega))\n",
    "    return len(max(nx.connected_components(G), key=len)) / len(G)"
   ]
  },
  {
   "cell_type": "code",
   "execution_count": null,
   "id": "80ffde1c-854c-4572-9255-3cd3dd4ea9ca",
   "metadata": {},
   "outputs": [],
   "source": [
    "omegas = [x/100 for x in range(30, 81, 5)]\n",
    "\n",
    "plt.plot(omegas, list(map(largest_comp, omegas)))\n",
    "plt.grid()"
   ]
  },
  {
   "cell_type": "code",
   "execution_count": null,
   "id": "02a63ad8-8f6c-4af4-a5ec-b250e67a922f",
   "metadata": {},
   "outputs": [],
   "source": [
    "data = pickle.load(open(\"data/stage1_data.pkl\", \"rb\"))\n",
    "data[\"X_matrices\"][2000]"
   ]
  },
  {
   "cell_type": "code",
   "execution_count": null,
   "id": "7efe4261-3012-467d-ac81-ac726ed0f3c2",
   "metadata": {},
   "outputs": [],
   "source": [
    "def f(year):\n",
    "    def largest_comp(omega):\n",
    "        G = nx.from_numpy_matrix(1* (exports_to_phi(data[\"X_matrices\"][year]) > omega))\n",
    "        return len(max(nx.connected_components(G), key=len)) / len(G)\n",
    "    return largest_comp\n",
    "\n",
    "plt.plot(omegas, list(map(f(1998), omegas)), label=\"1998\")\n",
    "plt.plot(omegas, list(map(f(1999), omegas)), label=\"1999\")\n",
    "plt.plot(omegas, list(map(f(2000), omegas)), label=\"2000\")\n",
    "plt.legend()\n",
    "plt.grid()"
   ]
  },
  {
   "cell_type": "code",
   "execution_count": null,
   "id": "f38ca1ca-e824-4e6f-9caa-ece98a04fdba",
   "metadata": {},
   "outputs": [],
   "source": [
    "def largest_comp(omega):\n",
    "    X = (data[\"X_matrices\"][1998])\n",
    "    X = X | (data[\"X_matrices\"][1999])\n",
    "    X = X | (data[\"X_matrices\"][2000])\n",
    "    G = nx.from_numpy_matrix(1* (exports_to_phi(X) > omega))\n",
    "    return len(max(nx.connected_components(G), key=len)) / len(G)\n",
    "\n",
    "plt.plot(omegas, list(map(largest_comp, omegas)))\n",
    "plt.grid()"
   ]
  },
  {
   "cell_type": "code",
   "execution_count": null,
   "id": "9efb50a4-80b4-4a9b-8033-d2ecd56d4ee6",
   "metadata": {},
   "outputs": [],
   "source": [
    "for year in range(1965, 2001, 5):\n",
    "    plt.plot(omegas, list(map(f(year), omegas)), label=year)\n",
    "plt.legend()\n",
    "plt.grid()"
   ]
  },
  {
   "cell_type": "code",
   "execution_count": null,
   "id": "cb0023d6-bfcd-4807-8cd4-cbab2910fdd1",
   "metadata": {},
   "outputs": [],
   "source": [
    "plt.plot(omegas, list(map(f(1975), omegas)), label=1975)\n",
    "plt.legend()\n",
    "plt.grid()"
   ]
  },
  {
   "cell_type": "code",
   "execution_count": null,
   "id": "9ffc0739-e626-4618-9435-0dc34e953d06",
   "metadata": {},
   "outputs": [],
   "source": [
    "# TODO: opcion 1 : ProductSpace en periodo 1998-2000 se obtiene sumando las expos de los 3 años\n",
    "# TODO: opcion 2 : usar datos \"originales\" en vez de los de harvard?"
   ]
  }
 ],
 "metadata": {
  "kernelspec": {
   "display_name": ".venv",
   "language": "python",
   "name": ".venv"
  },
  "language_info": {
   "codemirror_mode": {
    "name": "ipython",
    "version": 3
   },
   "file_extension": ".py",
   "mimetype": "text/x-python",
   "name": "python",
   "nbconvert_exporter": "python",
   "pygments_lexer": "ipython3",
   "version": "3.9.2"
  }
 },
 "nbformat": 4,
 "nbformat_minor": 5
}
