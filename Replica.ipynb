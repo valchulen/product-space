{
 "cells": [
  {
   "cell_type": "code",
   "execution_count": null,
   "id": "b6955fa2-6e6c-4dad-946e-c801adb68a09",
   "metadata": {},
   "outputs": [],
   "source": [
    "from metrics.product_space_graph import ProductSpaceGraph\n",
    "\n",
    "omegas = [\"0.55\", \"0.6\", \"0.65\"]"
   ]
  },
  {
   "cell_type": "code",
   "execution_count": null,
   "id": "01e3c047-3571-491b-bcfb-fd9c7c5b9f8e",
   "metadata": {},
   "outputs": [],
   "source": [
    "graphs = [\n",
    "    ProductSpaceGraph(f\"experimentacion/local-{omega}/exports_history.pkl\")\n",
    "    for omega in omegas\n",
    "]"
   ]
  },
  {
   "cell_type": "code",
   "execution_count": null,
   "id": "7c1dfcc4-dda5-41d9-a5c2-ac587ed8edf3",
   "metadata": {},
   "outputs": [],
   "source": [
    "graphs[0].plot(\"CHL\", \"Proceso de difusión con criterio local en Chile, Omega = 0.55\")"
   ]
  },
  {
   "cell_type": "code",
   "execution_count": null,
   "id": "dbf7cd2a-46f3-48a7-8045-c3ad7fb7c761",
   "metadata": {},
   "outputs": [],
   "source": [
    "graphs[1].plot(\"CHL\", \"Proceso de difusión con criterio local en Chile, Omega = 0.6\")"
   ]
  },
  {
   "cell_type": "code",
   "execution_count": null,
   "id": "bd2c59ec-e1ed-4868-8544-61479c6411f4",
   "metadata": {},
   "outputs": [],
   "source": [
    "graphs[2].plot(\"CHL\", \"Proceso de difusión con criterio local en Chile, Omega = 0.65\")"
   ]
  },
  {
   "cell_type": "code",
   "execution_count": null,
   "id": "abfc1ebc-3674-414a-846c-9c779dcdd8dd",
   "metadata": {},
   "outputs": [],
   "source": [
    "graphs_custom = [\n",
    "    ProductSpaceGraph(f\"experimentacion/local-custom-{omega}/exports_history.pkl\")\n",
    "    for omega in omegas\n",
    "]"
   ]
  },
  {
   "cell_type": "code",
   "execution_count": null,
   "id": "60ee6b95-14ce-4c62-a673-56cda36e334d",
   "metadata": {},
   "outputs": [],
   "source": [
    "graphs_custom[0].plot(\"CHL\", \"Proceso de difusión con criterio local en Chile, Omega = 0.55\")"
   ]
  },
  {
   "cell_type": "code",
   "execution_count": null,
   "id": "489125f6-3890-4874-8880-7abde8e4262b",
   "metadata": {},
   "outputs": [],
   "source": [
    "graphs_custom[1].plot(\"CHL\", \"Proceso de difusión con criterio local en Chile, Omega = 0.6\")"
   ]
  },
  {
   "cell_type": "code",
   "execution_count": null,
   "id": "ccb31ebd-89a0-4ff9-bfd2-15575424d4db",
   "metadata": {},
   "outputs": [],
   "source": [
    "graphs_custom[2].plot(\"CHL\", \"Proceso de difusión con criterio local en Chile, Omega = 0.65\")"
   ]
  },
  {
   "cell_type": "code",
   "execution_count": null,
   "id": "165fafc8-aead-4c4b-8ea4-8aa937422985",
   "metadata": {},
   "outputs": [],
   "source": [
    "graphs_custom[2].product_discovery(\"CHL\").unique()"
   ]
  },
  {
   "cell_type": "code",
   "execution_count": null,
   "id": "0969394d-6b8a-4152-a3dd-2063c8000737",
   "metadata": {},
   "outputs": [],
   "source": [
    "import pickle\n",
    "import pandas as pd\n",
    "exports_history = pickle.load(open(f\"experimentacion/local-0.6/exports_history.pkl\", \"rb\"))\n",
    "exports_by_country = pd.DataFrame(exports_history,\n",
    "                                  columns=(\"country\", \"generation\", \"exports\")) \\\n",
    "                       .set_index([\"country\", \"generation\"]).sort_index()\n",
    "exports_by_country"
   ]
  },
  {
   "cell_type": "code",
   "execution_count": null,
   "id": "f3df1ad5-3d80-4e34-8683-7bc703ad455d",
   "metadata": {},
   "outputs": [],
   "source": [
    "exports_by_country.loc[\"CHL\", 0][\"exports\"].sum()"
   ]
  },
  {
   "cell_type": "code",
   "execution_count": null,
   "id": "23fac1f4-ab2f-40f6-a523-be3d9b28e455",
   "metadata": {},
   "outputs": [],
   "source": [
    "data = pickle.load(open(f\"data/stage1_data.pkl\", \"rb\"))\n",
    "data_custom = pickle.load(open(f\"data/stage1_data_custom.pkl\", \"rb\"))"
   ]
  },
  {
   "cell_type": "code",
   "execution_count": null,
   "id": "537ae792-3870-4445-9386-746dcd6abd8c",
   "metadata": {},
   "outputs": [],
   "source": [
    "chl_index = data[\"countries\"].index(\"CHL\")\n",
    "# Chile produce 71 productos\n",
    "data[\"X_matrices\"][2000][:, chl_index].sum()"
   ]
  },
  {
   "cell_type": "code",
   "execution_count": null,
   "id": "f05c0819-a201-40b5-9422-14929e497f6b",
   "metadata": {},
   "outputs": [],
   "source": [
    "chl_index_custom = data_custom[\"countries\"].index(\"CHL\")\n",
    "# Tambien aca Chile produce 71 productos\n",
    "data_custom[\"X_matrices\"][2000][:, chl_index_custom].sum()"
   ]
  },
  {
   "cell_type": "code",
   "execution_count": null,
   "id": "c2583441-6a99-436f-ad22-094b1f6e9d6e",
   "metadata": {},
   "outputs": [],
   "source": [
    "# Los productos producidos en ambos datos son los mismos\n",
    "(data[\"X_matrices\"][2000][:, chl_index] == data_custom[\"X_matrices\"][2000][:, chl_index_custom]).all()"
   ]
  },
  {
   "cell_type": "code",
   "execution_count": null,
   "id": "daa32049-5446-40af-bf48-7de03a15129c",
   "metadata": {},
   "outputs": [],
   "source": [
    "list(\n",
    "    map(lambda t: t[0],\n",
    "    filter(lambda t: t[1] == 1,\n",
    "    zip(data[\"products\"], data_custom[\"X_matrices\"][2000][:, chl_index_custom])\n",
    ")))"
   ]
  },
  {
   "cell_type": "code",
   "execution_count": null,
   "id": "06581dfc-c230-484c-a6e8-2392daba53b4",
   "metadata": {},
   "outputs": [],
   "source": [
    "df = pd.read_csv(\"data/stage1_year_product_country_rca.csv\", dtype={\"sitc_product_code\": str})"
   ]
  },
  {
   "cell_type": "code",
   "execution_count": null,
   "id": "f1c5b35f-00bf-4fb6-95e3-e63ba92c2370",
   "metadata": {},
   "outputs": [],
   "source": [
    "df[(df.location_code == \"CHL\") & (df.year == 2000) & (df.export_rca >=1)].shape[0]"
   ]
  },
  {
   "cell_type": "code",
   "execution_count": null,
   "id": "9a1e0be6-2f89-4277-85e1-4171192d4ffc",
   "metadata": {},
   "outputs": [],
   "source": [
    "df_c = pd.read_csv(\"data/stage1_year_product_country_rca_custom.csv\", dtype={\"sitc_product_code\": str})"
   ]
  },
  {
   "cell_type": "code",
   "execution_count": null,
   "id": "cb2d8dd6-fa33-4056-b8e1-324da5e2ab32",
   "metadata": {},
   "outputs": [],
   "source": [
    "df_c[(df.location_code == \"CHL\") & (df.year == 2000) & (df.export_rca >=1)].shape[0]"
   ]
  },
  {
   "cell_type": "code",
   "execution_count": null,
   "id": "dec6746b-a5a6-493a-8ea6-c3bb003f7389",
   "metadata": {},
   "outputs": [],
   "source": [
    "(df[(df.location_code == \"CHL\") & (df.year == 2000) & (df.export_rca >=1)].sitc_product_code == df_c[(df.location_code == \"CHL\") & (df.year == 2000) & (df.export_rca >=1)].sitc_product_code).all()"
   ]
  },
  {
   "cell_type": "code",
   "execution_count": null,
   "id": "aa95f1a7-b211-4dda-9ad4-1c1efba5235d",
   "metadata": {},
   "outputs": [],
   "source": [
    "df[(df.location_code == \"CHL\") & (df.year == 2000) & (df.export_rca >=1)]"
   ]
  },
  {
   "cell_type": "code",
   "execution_count": null,
   "id": "505e24b3-3539-4485-b877-00104cee8ff0",
   "metadata": {},
   "outputs": [],
   "source": []
  }
 ],
 "metadata": {
  "kernelspec": {
   "display_name": ".venv",
   "language": "python",
   "name": ".venv"
  },
  "language_info": {
   "codemirror_mode": {
    "name": "ipython",
    "version": 3
   },
   "file_extension": ".py",
   "mimetype": "text/x-python",
   "name": "python",
   "nbconvert_exporter": "python",
   "pygments_lexer": "ipython3",
   "version": "3.9.2"
  }
 },
 "nbformat": 4,
 "nbformat_minor": 5
}
