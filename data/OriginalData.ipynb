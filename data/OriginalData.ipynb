{
 "cells": [
  {
   "cell_type": "code",
   "execution_count": null,
   "id": "6a234dac-1729-44db-95ee-2b129457f387",
   "metadata": {},
   "outputs": [],
   "source": [
    "import pandas as pd\n",
    "import numpy as np\n",
    "import matplotlib.pyplot as plt\n",
    "import networkx as nx"
   ]
  },
  {
   "cell_type": "code",
   "execution_count": null,
   "id": "5d913f05-66b3-4191-ba3f-dea03821d563",
   "metadata": {},
   "outputs": [],
   "source": [
    "years = [\"98\", \"99\", \"00\"]\n",
    "#years = [\"00\"]"
   ]
  },
  {
   "cell_type": "code",
   "execution_count": null,
   "id": "739c0ff7-2418-402f-b713-dbe12ba79cd1",
   "metadata": {},
   "outputs": [],
   "source": [
    "!make"
   ]
  },
  {
   "cell_type": "code",
   "execution_count": null,
   "id": "4fe7468a-d263-428b-b7c3-8c08691988ce",
   "metadata": {},
   "outputs": [],
   "source": [
    "columns = [\"Year\", \"Exporter\", \"sitc4\", \"Value\"]\n",
    "dfs = {\n",
    "    year: pd.read_sas(f\"wtf_data/wtf{year}.sas7bdat\")\n",
    "    for year in years\n",
    "}\n",
    "for year, df in dfs.items():\n",
    "    cond = (\n",
    "        dfs[year].sitc4.notnull() &\n",
    "        (dfs[year].Importer == b\"World\") &\n",
    "        (dfs[year].Exporter != b\"World\") &\n",
    "        (dfs[year][dfs[year].sitc4.notnull()].sitc4.apply(lambda s: not (s.endswith(b\"X\") or s.endswith(b\"A\"))))\n",
    "    )\n",
    "    dfs[year] = dfs[year][cond]\n",
    "    dfs[year] = dfs[year][columns].copy()\n",
    "    dfs[year][\"Exporter\"] = dfs[year].Exporter.apply(lambda s: s.decode())\n",
    "    dfs[year][\"sitc4\"] = dfs[year].sitc4.apply(lambda s: s.decode())\n"
   ]
  },
  {
   "cell_type": "code",
   "execution_count": null,
   "id": "259c80d5-9aeb-45a2-9951-9ce0c2c22270",
   "metadata": {},
   "outputs": [],
   "source": [
    "df = pd.concat(dfs.values())\n",
    "df"
   ]
  },
  {
   "cell_type": "code",
   "execution_count": null,
   "id": "af60fd61-d42c-43c8-b42d-cdb41a15406a",
   "metadata": {},
   "outputs": [],
   "source": [
    "df[df.sitc4.apply(lambda s: not (s.endswith(\"X\") or s.endswith(\"A\")))].sitc4.nunique()"
   ]
  },
  {
   "cell_type": "code",
   "execution_count": null,
   "id": "af39c317-bf85-4852-9e81-949f07eb8d10",
   "metadata": {},
   "outputs": [],
   "source": [
    "exports = df.groupby([\"Year\", \"Exporter\", \"sitc4\"]).sum().reset_index()\n",
    "exports"
   ]
  },
  {
   "cell_type": "code",
   "execution_count": null,
   "id": "0ad22fb4-712b-422d-95b4-1904e9a479ac",
   "metadata": {},
   "outputs": [],
   "source": [
    "total_country = exports[[\"Year\", \"Exporter\", \"Value\"]].groupby([\"Year\", \"Exporter\"]).sum().rename(columns={\"Value\": \"TotalCountry\"})\n",
    "total_country"
   ]
  },
  {
   "cell_type": "code",
   "execution_count": null,
   "id": "b296dc51-f473-41dc-9301-cf01e06ebd74",
   "metadata": {},
   "outputs": [],
   "source": [
    "total_product = exports[[\"Year\", \"sitc4\", \"Value\"]].groupby([\"Year\", \"sitc4\"]).sum().rename(columns={\"Value\": \"TotalProduct\"})\n",
    "total_product"
   ]
  },
  {
   "cell_type": "code",
   "execution_count": null,
   "id": "99b09cd8-9385-40d1-b8d2-7b52e74a54f4",
   "metadata": {},
   "outputs": [],
   "source": [
    "total = exports.groupby(\"Year\")[\"Value\"].sum().rename(\"Total\")\n",
    "total"
   ]
  },
  {
   "cell_type": "code",
   "execution_count": null,
   "id": "e6320ebd-e435-42e3-83d0-6475fa4f9889",
   "metadata": {},
   "outputs": [],
   "source": [
    "exports_totals = exports.join(total_country, on=[\"Year\", \"Exporter\"]).join(total_product, on=[\"Year\", \"sitc4\"]).join(total, on=\"Year\")\n",
    "exports_totals[\"RCA\"] = (exports_totals.Value / exports_totals.TotalCountry) / (exports_totals.TotalProduct / exports_totals.Total)\n",
    "exports_totals"
   ]
  },
  {
   "cell_type": "code",
   "execution_count": null,
   "id": "6f2a2712-c05c-434a-9097-62c28e643ade",
   "metadata": {},
   "outputs": [],
   "source": [
    "pivots = exports_totals.pivot(index=\"Year\", columns=[\"sitc4\", \"Exporter\"], values=\"RCA\")\n",
    "matrices = {}\n",
    "for year in pivots.index:\n",
    "    X = pivots.loc[year].to_frame().unstack().to_numpy()\n",
    "    X = 1 * (X > 1)\n",
    "    matrices[year] = X"
   ]
  },
  {
   "cell_type": "code",
   "execution_count": null,
   "id": "ec9a4705-d541-4bdc-9be5-06cdacc4b876",
   "metadata": {},
   "outputs": [],
   "source": [
    "def exports_to_phi(X):\n",
    "    phi = X @ X.T\n",
    "    # cantidad de paises que exportan cada producto\n",
    "    S = phi.diagonal()\n",
    "    # matriz que en cada fila tiene a S\n",
    "    M = np.reshape(np.ones_like(S), (-1, 1)) @ np.reshape(S, (1, -1))\n",
    "    # M[i,j] = max(sumatoria_c Xci, sumatoria_c Xcj)\n",
    "    # dividir por el maximo me va a dar el minimo\n",
    "    M = (M * (M >= M.T)) + (M.T * (M < M.T))\n",
    "    # cuenta final,out y where hacen que la probabilidad sea 0 cuando se intenta dividir por 0\n",
    "    # esto pasa cuando ninguno de los dos productos se exportan en ningun pais\n",
    "    return np.divide(phi, M, out=np.zeros_like(phi, dtype=np.float64), where=(M != 0))"
   ]
  },
  {
   "cell_type": "code",
   "execution_count": null,
   "id": "1f540341-1401-435d-af8b-7036a179415b",
   "metadata": {},
   "outputs": [],
   "source": [
    "phis = {\n",
    "    year: exports_to_phi(X)\n",
    "    for year, X in matrices.items()\n",
    "}\n",
    "phis[2000]"
   ]
  },
  {
   "cell_type": "code",
   "execution_count": null,
   "id": "c778884c-23be-4918-ae36-4cd556ba87aa",
   "metadata": {},
   "outputs": [],
   "source": [
    "phi = (phis[1998] + phis[1999] + phis[2000]) / 3\n",
    "phi"
   ]
  },
  {
   "cell_type": "code",
   "execution_count": null,
   "id": "66acea56-6377-4c41-acfa-1b293ca4749a",
   "metadata": {},
   "outputs": [],
   "source": [
    "omegas = [x/100 for x in range(30, 81, 5)]\n",
    "\n",
    "def largest_comp(omega):\n",
    "    G = nx.from_numpy_matrix(1* (phi > omega))\n",
    "    return len(max(nx.connected_components(G), key=len)) / len(G)\n",
    "\n",
    "plt.plot(omegas, list(map(largest_comp, omegas)))\n",
    "plt.grid()"
   ]
  },
  {
   "cell_type": "code",
   "execution_count": null,
   "id": "9adeb86a-e4e0-43f9-80ca-89415ffdb7f7",
   "metadata": {},
   "outputs": [],
   "source": [
    "def links_by_threshold(t):\n",
    "    return (1* (phi > t)).sum()\n",
    "ts = 10.0**(np.arange(-2,0, 0.01))\n",
    "plt.ylim(10**2.8, 10**6)\n",
    "plt.xlim(10**-2, 1)\n",
    "plt.grid()\n",
    "plt.loglog(ts, list(map(links_by_threshold, ts)))"
   ]
  },
  {
   "cell_type": "code",
   "execution_count": null,
   "id": "4b652524-b49d-4f11-9757-8af2dd03e347",
   "metadata": {},
   "outputs": [],
   "source": [
    "plt.xscale('log')\n",
    "plt.hist(phi.ravel(),bins=10.0**(np.arange(-3,0, 0.1)))"
   ]
  },
  {
   "cell_type": "code",
   "execution_count": null,
   "id": "e472c108-781f-47b1-886c-aeba69df511a",
   "metadata": {},
   "outputs": [],
   "source": [
    "def iterate(exports, omega):\n",
    "    return exports | (1 * ((phi @ np.diagflat(exports)).max(1) >= omega))\n",
    "\n",
    "def simulate(exports, omega):\n",
    "    simu = [exports]\n",
    "    for _ in range(4):\n",
    "        simu.append(iterate(simu[-1], omega))\n",
    "    return simu"
   ]
  },
  {
   "cell_type": "code",
   "execution_count": null,
   "id": "cbaaa24e-6b58-4891-837d-e5b5d5a02a3b",
   "metadata": {},
   "outputs": [],
   "source": [
    "countries = [c for _, c in pivots.iloc[0].to_frame().unstack().columns.to_list()]\n",
    "chl_exports = matrices[2000][:, countries.index(\"Chile\")]"
   ]
  },
  {
   "cell_type": "code",
   "execution_count": null,
   "id": "c356ac5d-bd0b-4230-ace9-487c9881df15",
   "metadata": {},
   "outputs": [],
   "source": [
    "print([s.sum() for s in simulate(chl_exports, 0.55)])\n",
    "print([s.sum() for s in simulate(chl_exports, 0.60)])\n",
    "print([s.sum() for s in simulate(chl_exports, 0.65)])"
   ]
  },
  {
   "cell_type": "code",
   "execution_count": null,
   "id": "6ca97c63-84f6-46f3-aa3a-b358f8831818",
   "metadata": {},
   "outputs": [],
   "source": [
    "mst = nx.maximum_spanning_tree(nx.from_numpy_array(phi))\n",
    "G = nx.compose(mst, nx.from_numpy_array(1* (phi > 0.55)))\n",
    "G.remove_edges_from(nx.selfloop_edges(G))\n",
    "#G = mst"
   ]
  },
  {
   "cell_type": "code",
   "execution_count": null,
   "id": "eb959520-e261-4013-9172-4d7419eb899b",
   "metadata": {},
   "outputs": [],
   "source": [
    "def product_discovery(exports0, omega):\n",
    "    results = simulate(exports0, omega)\n",
    "    number_exports = [exports * (i+1) for i, exports in enumerate(results)]\n",
    "    return pd.DataFrame(number_exports).replace({'0': np.nan, 0: np.nan}).min() - 1"
   ]
  },
  {
   "cell_type": "code",
   "execution_count": null,
   "id": "4c715f32-9a05-4aaf-9a18-11741b6e5ca8",
   "metadata": {},
   "outputs": [],
   "source": [
    "def plot(product_discovery, title):\n",
    "    plt.figure(figsize=(12, 10))\n",
    "\n",
    "    # Fue la mejor forma que encontré de poner un color distinto a los NaN (productos que nunca se llegan a desarrollar)\n",
    "    color_dict = {\n",
    "        0: \"green\",\n",
    "        1: \"greenyellow\",\n",
    "        2: \"yellow\",\n",
    "        3: \"orange\",\n",
    "        4: \"red\"\n",
    "    }\n",
    "\n",
    "    def select_color(value):\n",
    "        return color_dict.get(value, \"black\")\n",
    "    #kamada_kawai\n",
    "    nx.draw(G, pos=nx.kamada_kawai_layout(G),\n",
    "            node_size=40, edge_color='gray',\n",
    "            node_color=product_discovery.apply(select_color))\n",
    "\n",
    "    for iterations, color in color_dict.items():\n",
    "        plt.plot([0], [0], 'o', color=color, label=iterations)\n",
    "    plt.plot([0], [0], 'o', color='white')\n",
    "    plt.legend(title=\"Pasos de simulación\")\n",
    "    plt.title(title)"
   ]
  },
  {
   "cell_type": "code",
   "execution_count": null,
   "id": "d71f2d14-84a7-45bb-8ae9-ff7cd69438a1",
   "metadata": {},
   "outputs": [],
   "source": [
    "plot(product_discovery(chl_exports, 0.55), \"Chile, Omega=0.55\")"
   ]
  },
  {
   "cell_type": "code",
   "execution_count": null,
   "id": "a6373623-c83c-4d6b-bfad-e6a2e94f2e54",
   "metadata": {},
   "outputs": [],
   "source": [
    "plot(product_discovery(chl_exports, 0.60), \"Chile, Omega=0.60\")"
   ]
  },
  {
   "cell_type": "code",
   "execution_count": null,
   "id": "5d3a2821-b618-4480-a410-dbd89fe681ea",
   "metadata": {},
   "outputs": [],
   "source": [
    "plot(product_discovery(chl_exports, 0.65), \"Chile, Omega=0.65\")"
   ]
  },
  {
   "cell_type": "code",
   "execution_count": null,
   "id": "e776d0a3-73d0-4159-8c9f-ed2d618667ab",
   "metadata": {},
   "outputs": [],
   "source": [
    "kor_exports = matrices[2000][:, countries.index(\"Korea Rep.\")]"
   ]
  },
  {
   "cell_type": "code",
   "execution_count": null,
   "id": "cc9bae83-8cae-4263-8cfd-8ec3cb928448",
   "metadata": {},
   "outputs": [],
   "source": [
    "plot(product_discovery(kor_exports, 0.55), \"Corea del Sur, Omega=0.55\")"
   ]
  },
  {
   "cell_type": "code",
   "execution_count": null,
   "id": "923b9a39-5c74-4365-a4f2-5d092b15aa98",
   "metadata": {},
   "outputs": [],
   "source": [
    "plot(product_discovery(kor_exports, 0.60), \"Corea del Sur, Omega=0.60\")"
   ]
  },
  {
   "cell_type": "code",
   "execution_count": null,
   "id": "279899c3-4bfd-4298-842d-41fff7cc3b52",
   "metadata": {},
   "outputs": [],
   "source": [
    "plot(product_discovery(kor_exports, 0.65), \"Corea del Sur, Omega=0.65\")"
   ]
  },
  {
   "cell_type": "code",
   "execution_count": null,
   "id": "4dd178ea-a873-4270-8350-25473075cc51",
   "metadata": {},
   "outputs": [],
   "source": []
  }
 ],
 "metadata": {
  "kernelspec": {
   "display_name": ".venv",
   "language": "python",
   "name": ".venv"
  },
  "language_info": {
   "codemirror_mode": {
    "name": "ipython",
    "version": 3
   },
   "file_extension": ".py",
   "mimetype": "text/x-python",
   "name": "python",
   "nbconvert_exporter": "python",
   "pygments_lexer": "ipython3",
   "version": "3.9.2"
  }
 },
 "nbformat": 4,
 "nbformat_minor": 5
}
