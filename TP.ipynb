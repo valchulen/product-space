{
 "cells": [
  {
   "cell_type": "markdown",
   "id": "6a44d601",
   "metadata": {},
   "source": [
    "# Difusión sobre el Product Space \n"
   ]
  },
  {
   "cell_type": "markdown",
   "id": "123ca157",
   "metadata": {},
   "source": [
    "\n",
    "En este trabajo implementaremos un modelo de de difusión sobre el Product Space, haciendo uso del formalismo EB-DEVS. Utilizaremos los mismos datos que en los trabajos originales (extraidos de Harvard Dataverse) y exploraremos qué ocurre con distintas dificultades de difusión (valores de $\\Omega$) y simularemos con criterio de retroalimentación global y sin éste.\n"
   ]
  },
  {
   "cell_type": "markdown",
   "id": "a09adbfa",
   "metadata": {},
   "source": [
    "## Introducción"
   ]
  },
  {
   "cell_type": "markdown",
   "id": "60603d3a",
   "metadata": {},
   "source": [
    "\n",
    "### Introducción al modelo Product Space\n"
   ]
  },
  {
   "cell_type": "markdown",
   "id": "2456c2c2",
   "metadata": {},
   "source": [
    "\n",
    "Diremos que un país $c$ exporta un producto $p$ cuando $RCA_{c,p} = \\frac{\\$ \\text{ de p exportados por c }}{\\$ \\text{ promedio de exportaciones de p}} > 1$.\n",
    "\n",
    "Para simplificar la notación $x_p^c = 1 \\text{ si } RCA_{c,p} > 1$ (y 0 sino). \n",
    "\n",
    "Luego se define la similitud entre productos de la siguiente manera:\n",
    "\n",
    "$$ \\varphi_{i,j}=\\min\\{P(RCA_i|RCA_j), P(RCA_j|RCA_i)\\} = \\sum_c x_i^c x^c_j \\times\\min\\{\\frac{1}{\\sum_c x_i^c},\\frac{1}{\\sum_c x_j^c}\\} $$ \n",
    "\n",
    "con $ P(RCA_i,RCA_j) = \\frac{\\sum_c x_i^c x_j^c}{\\#países} $.\n",
    "\n",
    "Notar que la matrix que resulta $\\Phi = \\{\\varphi_{i, j}\\}_{i,j}$ depende de $x$ de todos los paises y productos.\n"
   ]
  },
  {
   "cell_type": "markdown",
   "id": "365eeea0",
   "metadata": {},
   "source": [
    "\n",
    "### Introducción de variable temporal y progreso de la difusión\n"
   ]
  },
  {
   "cell_type": "markdown",
   "id": "eb368c54",
   "metadata": {},
   "source": [
    "\n",
    "Si bien el Product Space observa versiones estáticas de las variables mencionadas arribas, nosotros buscamos agregarle tiempo y progreso. La dimensión temporal resulta natural argegarla a $x_{p,t}^c$ para todo $p$ y $c$. Esto a su vez deriva las versiones temporales de $\\varphi_{i,j}^t$ y $\\Phi^t$.\n",
    "\n",
    "Para el concepto de progreso establecemos ciertas reglas:\n",
    "\n",
    "- Sea $\\Omega$ el umbral de complejidad que se debe cruzar para desarrollar un producto.\n",
    "- Si $x^c_{p,t}=0$ entonces la única manera de que el producto sea exportado es si $\\Omega < \\max_{i / x_{i,t} = 1}{\\varphi_{p,i}}$. Resultando en $x^c_{p,t+1}=1$.\n",
    "- Si para $t$ $x_{p,t}^c = 1$ entonces $\\forall t' > t \\; x_{p,t}^c = 1$. O sea, una vez exportado un bien por un país, este siempre lo exporta por el resto de la simulación.\n",
    "\n"
   ]
  },
  {
   "cell_type": "markdown",
   "id": "ef5117d5",
   "metadata": {},
   "source": [
    "\n",
    "#### Simplificaciones cuentísticas\n"
   ]
  },
  {
   "cell_type": "markdown",
   "id": "4cb37deb",
   "metadata": {},
   "source": [
    "\n",
    "- Llamaremos $\\overrightarrow{d}^c_p$ al vector que representa las distancias entre un pais $c$ y un producto $p$, cuya definición es $\\overrightarrow{d}^c_p= \\max_{j/ x_{j}^c =1} {\\varphi_{p, j}}$.\n",
    "- O de forma matricial $\\overrightarrow{d}^c = \\max fila(\\Phi X^c)$ con $$ X^c = \\begin{bmatrix}\n",
    "x_1^c & 0 & \\dots & 0 \\\\\n",
    "0 & x_2^c & \\dots & 0 \\\\\n",
    "\\vdots & \\vdots & \\ddots & \\vdots \\\\\n",
    "0 & 0 & \\dots & x_n^c\n",
    "\\end{bmatrix} $$\n",
    "\n",
    "Notar que $\\overrightarrow{d}^{c,t}_p$ también depende del tiempo.\n",
    "\n"
   ]
  },
  {
   "cell_type": "markdown",
   "id": "7d59078d",
   "metadata": {},
   "source": [
    "\n",
    "### Variantes: retroalimentación vs local"
   ]
  },
  {
   "cell_type": "markdown",
   "id": "ed6e0547",
   "metadata": {},
   "source": [
    "\n",
    "Como mencionamos, simularemos dos variantes distintas, una con retroalimentación de los países y sus descubrimientos al resto del mundo y otra en la que el desarrollo se da de forma aislada en cada país y la complejidad de producir no cambia en función del tiempo.\n",
    "\n",
    "- Variante global (o con retroalimentación): se basa principalmente en actualizar $\\Phi^{t+1}$ con los datos de $x_{p,t}^c$ y luego que $\\overrightarrow{d}^{c,t+1}_p$ utilice $\\Phi^{t+1}$.\n",
    "    \n",
    "    Esta es la versión más sensata desde el punto de vista de la realidad, ya que suponemos que los avances y desarrollos que se dan en el mundo globalizado en que vivimos afectan la complejidad de producir. Pero como no removemos productos de las canastas de exportaciones, equivaldría a creer que la complejidad expresada en $\\Phi$ siempre se reduce, cosa que por crisis, faltantes, perdidas de competitividad, etc. es un poco naïve.\n",
    "\n",
    "\n",
    "- Variante local (o sin retroalimentación): se basa en hacer que $\\Phi$ no dependa del tiempo, solamente se tiene en cuenta la $\\Phi$ inicial, o sean las relaciones entre los paises y sus exportaciones en el instante inicial. Luego cada país progresa mediante la actualización de $X^c_t$. De esta forma los avances son aislados entre los paises y productos.\n",
    "\n",
    "En el trabajo intentaremos ver si estos métodos tienen diferencias y en caso de que las tuvieran por qué surgen.\n"
   ]
  },
  {
   "cell_type": "markdown",
   "id": "61af8cc3",
   "metadata": {},
   "source": [
    "## Modelo Conceptual\n"
   ]
  },
  {
   "cell_type": "markdown",
   "id": "29cfe848",
   "metadata": {},
   "source": [
    "\n",
    "Contamos con dos tipos de modelos atómicos:\n",
    "\n",
    "- Los paises, que tienen noción de sus exportaciones competitivas y realizan el proceso de difusión local.\n",
    "- El generador de eventos, que una vez por unidad de tiempo manda un mensaje a cada país para que difunda. En este mensaje, informa a los países del valor de $\\Omega$, que toma del acoplado.\n",
    "\n",
    "Ambos atómicos se sitúan en el acoplado de Espacio de Productos, que tiene conocimiento de la matriz $\\Phi$ (macro estado). La $\\Phi$ se actualizará con los cambios en el micro estado de los países si se usa el modelo con retroalimentación.\n",
    "\n",
    "![Modelo Conceptual Product Space](Modelo_Conceptual_Product_Space.drawio.png \"Modelo conceptual\")\n"
   ]
  },
  {
   "cell_type": "markdown",
   "id": "9a36241c",
   "metadata": {},
   "source": [
    "\n",
    "## Simulación\n"
   ]
  },
  {
   "cell_type": "markdown",
   "id": "6b8b8b0a",
   "metadata": {},
   "source": [
    "\n",
    "Implementamos el modelo usando EB-DEVS, lo que permite que el acoplado de Espacio de Productos tenga el macro estado de la simulación, y que este sea accesible por los atómicos para afectar su funcionamiento. Además, en el caso con retroalimentacón, permite que el acoplado actualice su estado con los cambios en el micro estado de los atómicos.\n"
   ]
  },
  {
   "cell_type": "markdown",
   "id": "b72f97bb",
   "metadata": {},
   "source": [
    "\n",
    "### Generacion de datos\n"
   ]
  },
  {
   "cell_type": "markdown",
   "id": "d72d70da",
   "metadata": {},
   "source": [
    "\n",
    "Utilizamos los datos de comercio internacional [publicados por el _Growth Lab_ de la Universidad de Harvard](https://dataverse.harvard.edu/dataset.xhtml?persistentId=doi:10.7910/DVN/H8SFD2), en formato SITC Rev. 2 con códigos de producto de cuatro dígitos.\n",
    "\n",
    "De este dataset, tomamos el RCA (que viene precalculado) para cada producto en un país y año, y a partir de estos datos generamos las matrices $X$ de cada año.\n"
   ]
  },
  {
   "cell_type": "markdown",
   "id": "52bdf159",
   "metadata": {},
   "source": [
    "\n",
    "### Cómo simular\n"
   ]
  },
  {
   "cell_type": "markdown",
   "id": "dde1a972",
   "metadata": {},
   "source": [
    "\n",
    "Para correr la simulación, se requiere Python3 con EB-DEVS y numpy instalado. Se puede correr el script `main.py` con los siguientes argumentos:\n",
    "\n",
    "```\n",
    "--duration, -d: cantidad de interaciones de difusión a realizar\n",
    "--big-omega, -O: valor del parámetro de difusión (por defecto, 0.55)\n",
    "--metrics-folder, -m: carpeta o directorio en el que guardar las métricas\n",
    "--phi-matrix-update, -u: booleano que define si se utiliza el modelo con retroalimentación (por defecto, falso)\n",
    "--X-matrices-file, -f: datos de entrada, en formato pkl, que contiene las matrices X (por defecto, data/stage1_data.pkl)\n",
    "--year, -y: año de origen de la simulación, define con qué matriz X se empieza (por defecto, 2000)\n",
    "```\n",
    "\n",
    "El simulador genera dos archivos de salida con métricas:\n",
    "\n",
    "- `omega.csv`: máximo, mínimo y promedio del vector $\\overrightarrow{d}^{c, t}$ de un país en cada generación/iteración\n",
    "- `exports.csv`: cantidad de productos exportados por un país en cada generación/iteración\n"
   ]
  },
  {
   "cell_type": "markdown",
   "id": "449de6fa",
   "metadata": {},
   "source": [
    "## Análisis"
   ]
  },
  {
   "cell_type": "markdown",
   "id": "bd079b7e",
   "metadata": {},
   "source": [
    "\n",
    "Simulamos estas combinaciones\n",
    "\n"
   ]
  },
  {
   "cell_type": "markdown",
   "id": "68b3e10e",
   "metadata": {},
   "source": [
    "#### Carga de datos"
   ]
  },
  {
   "cell_type": "code",
   "execution_count": null,
   "id": "65a358e2",
   "metadata": {},
   "outputs": [],
   "source": [
    "import pandas as pd\n",
    "import plotly.express as px\n",
    "import numpy as np\n",
    "from plotly.subplots import make_subplots\n",
    "import plotly.graph_objects as go\n",
    "\n",
    "\n",
    "UNINTRESTING_OMEGAS = (0.1, 0.2, 0.3, 0.4, 0.6, 0.8, 0.9)\n",
    "INTRESTING_OMEGAS = (0.5, 0.55, 0.6, 0.65)\n",
    "\n",
    "\n",
    "## CARGA DE DATOS PARA MEDIR DIFERENCIAS ENRTRE CRITERIOS\n",
    "exports_diff_dfs = []\n",
    "exports_global_dfs = []\n",
    "exports_local_dfs = []\n",
    "for omega in list(UNINTRESTING_OMEGAS) + list(INTRESTING_OMEGAS):\n",
    "    exports_global_df = pd.read_csv(f\"experimentacion/metrics-true-{omega}/exports.csv\")\n",
    "    exports_global_df[\"omega\"] = omega\n",
    "    exports_global_df.set_index([\"country\", \"generation\"], inplace=True)\n",
    "    exports_global_dfs.append(exports_global_df)\n",
    "\n",
    "    exports_local_df = pd.read_csv(f\"experimentacion/metrics-false-{omega}/exports.csv\")\n",
    "    exports_local_df[\"omega\"] = omega\n",
    "    exports_local_df.set_index([\"country\", \"generation\"], inplace=True)\n",
    "    exports_local_dfs.append(exports_local_df)\n",
    "\n",
    "    exports_diff_df = exports_global_df - exports_local_df\n",
    "    exports_diff_df[\"omega\"] = omega\n",
    "\n",
    "    exports_diff_dfs.append(exports_diff_df)\n",
    "\n",
    "exports_diff_df = pd.concat(exports_diff_dfs)\n",
    "exports_diff_df.sort_values(\"omega\", inplace=True)\n",
    "\n",
    "exports_global_df = pd.concat(exports_global_dfs)\n",
    "exports_global_df.sort_values(\"omega\", inplace=True)\n",
    "\n",
    "exports_local_df = pd.concat(exports_local_dfs)\n",
    "exports_local_df.sort_values(\"omega\", inplace=True)"
   ]
  },
  {
   "cell_type": "markdown",
   "id": "6f64d9cc",
   "metadata": {},
   "source": [
    "\n",
    "### Cantidad de generaciones necesarias para alcanzar estabilidad\n"
   ]
  },
  {
   "cell_type": "markdown",
   "id": "03aabf6e",
   "metadata": {},
   "source": [
    "\n",
    "Como veremos a continuación, si bien hicimos 20 generaciones de difusión, con 10 ya sería suficiente. En muchos de los gráficos subsiguientes solo se muestran hasta 10 generaciones por motivos de claridad ya que los comporamientos no cambiarían en las generaciones mayores."
   ]
  },
  {
   "cell_type": "code",
   "execution_count": null,
   "id": "a4920615",
   "metadata": {},
   "outputs": [],
   "source": [
    "paises = [\"ARG\", \"BRA\", \"CHL\", \"AUS\"]\n",
    "# graficar las dos curvas\n",
    "# TODO: fijar los paises\n",
    "paises = set(paises + [country for country, _ in np.random.choice(exports_local_df.index, 6 - len(paises))])\n",
    "\n",
    "# Criterio local\n",
    "df = exports_local_df.loc[sorted(paises)].reset_index().sort_values([\"country\",\"generation\",\"omega\"])\n",
    "fig = px.line(df,\n",
    "            x=\"generation\",\n",
    "            y=\"count_exports\",\n",
    "            color=\"omega\",\n",
    "            facet_col=\"country\",\n",
    "            facet_col_wrap=2,\n",
    "            height=600,\n",
    "            title=\"Exportaciones en función de la generación por país y omega para criterio local\",\n",
    "            labels={\"count_exports\": \"Exportaciones\", \"generation\": \"Generacion\", \"country\": \"Pais\"})\n",
    "fig.for_each_annotation(lambda a: a.update(text=a.text.replace(\"=\", \" = \")))\n",
    "fig.add_vline(x=10, annotation_text=\"Fin sugerido de la simulación\", annotation_position=\"bottom right\")\n",
    "fig.add_hline(y=df.count_exports.max(), annotation_text=\"Máximas exportaciones\", opacity=.25)\n",
    "fig.show()\n",
    "\n",
    "# Criterio global\n",
    "df = exports_global_df.loc[sorted(paises)].reset_index().sort_values([\"country\",\"generation\",\"omega\"])\n",
    "fig = px.line(df,\n",
    "            x=\"generation\",\n",
    "            y=\"count_exports\",\n",
    "            color=\"omega\",\n",
    "            facet_col=\"country\",\n",
    "            facet_col_wrap=2,\n",
    "            height=600,\n",
    "            title=\"Exportaciones en función de la generación por país y omega para criterio global\",\n",
    "            labels={\"count_exports\": \"Exportaciones\", \"generation\": \"Generacion\", \"country\": \"Pais\"})\n",
    "fig.for_each_annotation(lambda a: a.update(text=a.text.replace(\"=\", \" = \")))\n",
    "fig.add_vline(x=10, annotation_text=\"Fin sugerido de la simulación\", annotation_position=\"bottom right\")\n",
    "fig.add_hline(y=df.count_exports.max(), annotation_text=\"Máximas exportaciones\", opacity=.25)"
   ]
  },
  {
   "cell_type": "markdown",
   "id": "22c56d30",
   "metadata": {},
   "source": [
    "Como podemos observar, luego del criterio de corte en la décima generación, no ocurre nada de interés.\n",
    "\n",
    "Por lo tanto, las gráficas posteriores tendrán solo 10 generaciones, también es un criterio útil para simular menos generaciones y obtener resultados similares. \n",
    "\n",
    "Ya que si bien el costo del simulador actualmente es más bien numérico (y por lo tanto se simula \"rápido\"), al hacerle modificaciones en el futuro en el que se le agrega inteligencia o dificultad para exportar esto podría cambiar y ejecutar menos generaciones resultar ventajoso."
   ]
  },
  {
   "cell_type": "code",
   "execution_count": null,
   "id": "b229181f",
   "metadata": {},
   "outputs": [],
   "source": [
    "# corte de dataframes\n",
    "\n",
    "def filter_large_generations(index):\n",
    "    return [(country, generation) for country, generation in index if generation > 10]\n",
    "\n",
    "exports_diff_df.drop(index=filter_large_generations(exports_diff_df.index), inplace=True)\n",
    "exports_global_df.drop(index=filter_large_generations(exports_global_df.index), inplace=True)\n",
    "exports_local_df.drop(index=filter_large_generations(exports_local_df.index), inplace=True)"
   ]
  },
  {
   "cell_type": "markdown",
   "id": "239ffad5",
   "metadata": {},
   "source": [
    "\n",
    "### Diferencias de exportaciones por omega y criterio de simulación"
   ]
  },
  {
   "cell_type": "markdown",
   "id": "740e83d6",
   "metadata": {},
   "source": [
    "Veamos primero cual es la tendencia de diferencias en exportaciones actualizando $\\Phi$ en cada generacion (llamado criterio de simulacion global) versus no realizar esta actualizacion (llamado criterio de simulacion local).\n",
    "\n",
    "En la bibliografia se menciona que esta actualizacion no trae beneficios claros. Tener en cuenta que actualizar $\\Phi$ corresponde a volver a categorizar los productos.\n",
    "\n",
    "Para esto elegimos visualizar la el avance de la diferencia absoluta segun cada umbral $\\Omega$ para distintos paises. A medida avanza la simulacion, dado que es un proceso de difusion, se aproximan asintotas sobre las metricas observadas."
   ]
  },
  {
   "cell_type": "code",
   "execution_count": null,
   "id": "54a509a7",
   "metadata": {},
   "outputs": [],
   "source": [
    "\n",
    "for pais in sorted(paises):\n",
    "    df = exports_diff_df.loc[pais].reset_index().sort_values([\"generation\",\"omega\"])\n",
    "    fig = px.line(df,\n",
    "                x=\"generation\",\n",
    "                y=\"count_exports\",\n",
    "                color=\"omega\",\n",
    "                title=f\"Diferencia en cantidad de exportaciones para {pais} y omega segun criterio de simulacion\",\n",
    "                labels={\"count_exports\": \"Diferencia de exportaciones\", \"generation\": \"Generacion\", \"country\": \"Pais\"})\n",
    "    fig.show()"
   ]
  },
  {
   "cell_type": "markdown",
   "id": "97c06c3a",
   "metadata": {},
   "source": [
    "Se observa que, para todos los paises, la diferencia se estabiliza en las ultimas generaciones (10ma generacion en adelante), por lo que tomaremos las comparativas con la menor divergencia (la ultima generacion disponible).\n",
    "\n",
    "Veamos con mayor detalle como es la distribucion segun $\\Omega$ (umbral de \"descubrimiento\")."
   ]
  },
  {
   "cell_type": "code",
   "execution_count": null,
   "id": "dd9398d5",
   "metadata": {},
   "outputs": [],
   "source": [
    "max_diff_df = (\n",
    "    exports_diff_df\n",
    "    .reset_index()\n",
    "    .set_index([\"generation\", \"country\", \"omega\"])\n",
    "    .loc[max(exports_diff_df.index.get_level_values(1))]\n",
    "    .max(axis=1)\n",
    ")\n",
    "max_diff_df.rename(\"difference\", inplace=True)\n",
    "fig = px.box(\n",
    "    max_diff_df.reset_index(),\n",
    "    x=\"omega\",\n",
    "    y=\"difference\",\n",
    "    title=f\"Distribucion de diferencias segun criterio de simulacion en cantidad de exportaciones x omega (ultima generacion)\",\n",
    "    labels={\"difference\": \"Diferencia de exportaciones\", \"omega\": \"Omega\"})\n",
    "fig.show()"
   ]
  },
  {
   "cell_type": "markdown",
   "id": "40c2f4fc",
   "metadata": {},
   "source": [
    "Claramente los mas interesantes de analizar son los valores de $\\Omega = 0.5, 0.55, 0.6 $ y $ 0.65$. Esto se condice con la idea de que a valores muy pequenos de $\\Omega$ el descubrimiento es facil y a valores muy elevados es muy dificil, por lo que las alternativas globales y locales pecan en los mismos aspectos ($\\Omega$ seria mas significativo que actualizar $\\Phi$).\n",
    "\n",
    "\n",
    "#### Local vs global para $\\Omega$ poco interesante"
   ]
  },
  {
   "cell_type": "code",
   "execution_count": null,
   "id": "db28f1ad-269f-475d-a8b4-7806cfa3c184",
   "metadata": {},
   "outputs": [],
   "source": [
    "# diferencia total en la cantidad de exportaciones de los omegas\n",
    "df_ = exports_diff_df[exports_diff_df.omega.isin(UNINTRESTING_OMEGAS)].reset_index().sort_values([\"omega\", \"generation\"])\n",
    "fig = px.line(df_,\n",
    "        color=\"country\",\n",
    "        x=\"generation\",\n",
    "        y=\"count_exports\",\n",
    "        facet_col=\"omega\", facet_col_wrap=2,\n",
    "        height=1000,\n",
    "        width=2000,\n",
    "        title=f\"Evolucion de diferencias segun criterio de simulacion en cantidad de exportaciones (por omega)\",\n",
    "        labels={\"count_exports\": \"Diferencia de exportaciones\", \"omega\": \"Omega\", \"generation\": \"Generation\"})\n",
    "fig.for_each_annotation(lambda a: a.update(text=a.text.replace(\"=\", \" = \")))\n",
    "fig.update_yaxes(matches=None, range=[0, df_.count_exports.max()])\n",
    "fig.update_xaxes(matches=None)\n",
    "fig.show()"
   ]
  },
  {
   "cell_type": "markdown",
   "id": "83786936",
   "metadata": {},
   "source": [
    "Como vemos, no hay cambios de interes fuera de las primeras generaciones para ninguno de los omegas elegidos, por lo que para $\\Omega = 0.1, 0.2, 0.3, 0.4, 0.6, 0.8, 0.9$ concluimos que las versiones locales y globales son indistinguibles.\n",
    "\n",
    "#### Local vs global para $\\Omega$ interesante"
   ]
  },
  {
   "cell_type": "code",
   "execution_count": null,
   "id": "50ab8d91",
   "metadata": {},
   "outputs": [],
   "source": [
    "df_ = exports_diff_df[exports_diff_df.omega.isin(INTRESTING_OMEGAS)].reset_index().sort_values([\"omega\", \"generation\"])\n",
    "fig = px.line(df_,\n",
    "        color=\"country\",\n",
    "        x=\"generation\",\n",
    "        y=\"count_exports\",\n",
    "        facet_col=\"omega\", facet_col_wrap=2,\n",
    "        height=1000,\n",
    "        width=2000,\n",
    "        title=f\"Evolucion de diferencias segun criterio de simulacion en cantidad de exportaciones (por omega)\",\n",
    "        labels={\"count_exports\": \"Diferencia de exportaciones\", \"omega\": \"Omega\", \"generation\": \"Generation\"})\n",
    "fig.for_each_annotation(lambda a: a.update(text=a.text.replace(\"=\", \" = \")))\n",
    "fig.update_yaxes(matches=None, range=[0, df_.count_exports.max()])\n",
    "fig.update_xaxes(matches=None)\n",
    "fig.show()"
   ]
  },
  {
   "cell_type": "markdown",
   "id": "ac04141c",
   "metadata": {},
   "source": [
    "Cabe notar que para $\\Omega = 0.6$ y $0.65$ la el comportamiento entre la version local y la global no sufre grandes cambios, por lo que reclasificamos estos valores como de no interes y subsecuentemente como ambas versiones son indistinguibles para estos valores.\n",
    "\n",
    "No obstante, $\\Omega = 0.5$ y $0.55$ si muestran comportamientos significativamente distintos, por lo que no podemos concluir que la version local y la global tengan indistinguibles. Como lo que esta siendo graficado es global - local y la diferencia es positiva y mayor a 20 productos en la mayoria de los casos, interprestamos que la version global facilita la difusion.\n",
    "\n",
    "Explicamos el comportamiento indistinguible de los casos clasificados como $\\Omega$ poco interesante ya que para estos valores de $\\Omega$ la difusion suele alcanzar maximos por ser muy facil difundir o directamente es muy dificil, entonces la retroalimentacion no aporta el suficiente peso como para contrarrestar los efectos negativos en el desarrollo de nuevos productos.\n",
    "\n",
    "Por ultimo veamos la cantidad de productos exportados. "
   ]
  },
  {
   "cell_type": "code",
   "execution_count": null,
   "id": "284dfdcc",
   "metadata": {},
   "outputs": [],
   "source": [
    "\n",
    "\n",
    "paises\n",
    "\n",
    "fig = make_subplots(len(paises), shared_xaxes=True, shared_yaxes=True)\n",
    "\n",
    "for i, pais in enumerate(paises):\n",
    "    global_df_ = exports_global_df[exports_global_df.country == pais]\n",
    "    global_df_.sort_values([\"omega\", \"generation\"])\n",
    "    omegas = set(global_df_.omega)\n",
    "    for omega in omegas:\n",
    "        df_ = global_df_[global_df_.omega==omega].sort_values(\"generation\")\n",
    "        fig.add_trace(\n",
    "            go.Scatter(\n",
    "                x=df_.generation,\n",
    "                y=df_.count_exports,\n",
    "                mode=\"lines\",\n",
    "                name=f\"{pais} - {omega}\",\n",
    "            ),\n",
    "            row=i+1, col=1,\n",
    "        )\n",
    "\n",
    "fig.show()"
   ]
  },
  {
   "cell_type": "code",
   "execution_count": null,
   "id": "71a3fef6",
   "metadata": {},
   "outputs": [],
   "source": [
    "exports_global_df"
   ]
  },
  {
   "cell_type": "markdown",
   "id": "2e48b8c2",
   "metadata": {},
   "source": [
    "# Pruebas"
   ]
  },
  {
   "cell_type": "code",
   "execution_count": null,
   "id": "2e9de673",
   "metadata": {},
   "outputs": [],
   "source": [
    "exports_global_df_copy = exports_global_df.copy()\n",
    "exports_global_df_copy[\"local\"] = False\n",
    "exports_local_df_copy = exports_local_df.copy()\n",
    "exports_local_df_copy[\"local\"] = True\n",
    "exports_df = exports_global_df_copy.append(exports_local_df)"
   ]
  },
  {
   "cell_type": "code",
   "execution_count": null,
   "id": "b6760890-7577-47ee-854e-12b39a4dd8bf",
   "metadata": {},
   "outputs": [],
   "source": [
    "top_20 = exports_df[exports_df.generation == exports_df.generation.max()].nlargest(n=20, columns=[\"count_exports\"]).country\n",
    "exports_top_20_df = exports_df[exports_df.country.isin(top_20) | (exports_df.country == \"ARG\")]\n",
    "fig = px.line(exports_top_20_df,\n",
    "    x=\"generation\",\n",
    "    y=\"count_exports\",\n",
    "    color=\"country\",\n",
    "    title=f'Productos exportados por pais para los 20 exportadores mas diversificados + ARG (RCA > 1)',\n",
    "    labels={\"count_exports\": \"Exportaciones\", \"generation\": \"Generacion\", \"couintry\": \"Pais\"},\n",
    ")\n",
    "fig.update_yaxes(range=[0, exports_df.count_exports.max()])\n",
    "fig.show()"
   ]
  },
  {
   "cell_type": "markdown",
   "id": "611092a7",
   "metadata": {},
   "source": [
    "networkx MST progresion para argentina global vs local\n"
   ]
  }
 ],
 "metadata": {
  "interpreter": {
   "hash": "216aaf50a997f91f8fb135dbeb1e7d78b1a179d81139dcdd3582a11ee9e36366"
  },
  "kernelspec": {
   "display_name": "Python 3 (ipykernel)",
   "language": "python",
   "name": "python3"
  },
  "language_info": {
   "codemirror_mode": {
    "name": "ipython",
    "version": 3
   },
   "file_extension": ".py",
   "mimetype": "text/x-python",
   "name": "python",
   "nbconvert_exporter": "python",
   "pygments_lexer": "ipython3",
   "version": "3.10.4"
  }
 },
 "nbformat": 4,
 "nbformat_minor": 5
}
