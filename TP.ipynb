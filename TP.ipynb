{
 "cells": [
  {
   "cell_type": "markdown",
   "id": "6a44d601",
   "metadata": {},
   "source": [
    "# Difusión sobre el Product Space \n"
   ]
  },
  {
   "cell_type": "markdown",
   "id": "123ca157",
   "metadata": {},
   "source": [
    "\n",
    "En este trabajo implementaremos un modelo de difusión sobre el Product Space, haciendo uso del formalismo EB-DEVS. Utilizaremos los mismos datos que en los trabajos originales (extraidos de Harvard Dataverse) y exploraremos qué ocurre con distintas dificultades de difusión (valores de $\\Omega$) y simularemos tanto con criterio de retroalimentación global como sin éste.\n"
   ]
  },
  {
   "cell_type": "markdown",
   "id": "a09adbfa",
   "metadata": {},
   "source": [
    "## Introducción"
   ]
  },
  {
   "cell_type": "markdown",
   "id": "60603d3a",
   "metadata": {},
   "source": [
    "\n",
    "### Introducción al modelo Product Space\n"
   ]
  },
  {
   "cell_type": "markdown",
   "id": "2456c2c2",
   "metadata": {},
   "source": [
    "\n",
    "Diremos que un país $c$ exporta un producto $p$ cuando $RCA_{c,p} = \\frac{\\$ \\text{ de p exportados por c }}{\\$ \\text{ promedio de exportaciones de p}} > 1$.\n",
    "\n",
    "Para simplificar la notación $x_p^c = 1 \\text{ si } RCA_{c,p} > 1$ (y 0 sino). \n",
    "\n",
    "Luego se define la similitud entre productos de la siguiente manera:\n",
    "\n",
    "$$ \\varphi_{i,j}=\\min\\{P(RCA_i|RCA_j), P(RCA_j|RCA_i)\\} = \\sum_c x_i^c x^c_j \\times\\min\\{\\frac{1}{\\sum_c x_i^c},\\frac{1}{\\sum_c x_j^c}\\} $$ \n",
    "\n",
    "con $ P(RCA_i,RCA_j) = \\sum_c x_i^c x_j^c  \\; \\big/ \\;  \\#paises $.\n",
    "\n",
    "Notar que la matrix que resulta $\\Phi = \\{\\varphi_{i, j}\\}_{i,j}$ depende del $x$ de todos los paises y productos.\n"
   ]
  },
  {
   "cell_type": "markdown",
   "id": "365eeea0",
   "metadata": {},
   "source": [
    "\n",
    "### Introducción de variable temporal y progreso de la difusión\n"
   ]
  },
  {
   "cell_type": "markdown",
   "id": "eb368c54",
   "metadata": {},
   "source": [
    "\n",
    "Si bien el Product Space observa versiones estáticas de las variables mencionadas arribas, nosotros buscamos agregarle tiempo y progreso. La dimensión temporal resulta natural argegarla a $x_{p,t}^c$ para todo $p$ y $c$. Esto a su vez deriva las versiones temporales de $\\varphi_{i,j}^t$ y $\\Phi^t$.\n",
    "\n",
    "Para el concepto de progreso establecemos ciertas reglas:\n",
    "\n",
    "- Sea $\\Omega$ el umbral de complejidad que se debe cruzar para desarrollar un producto.\n",
    "- Si $x^c_{p,t}=0$ entonces la única manera de que el producto sea exportado es si $\\Omega < \\max_{i / x_{i,t} = 1}{\\varphi_{p,i}}$. Resultando en $x^c_{p,t+1}=1$.\n",
    "- Si para $t$ $x_{p,t}^c = 1$ entonces $\\forall t' > t \\; x_{p,t}^c = 1$. O sea, una vez exportado un bien por un país, este siempre lo exporta por el resto de la simulación.\n",
    "\n"
   ]
  },
  {
   "cell_type": "markdown",
   "id": "ef5117d5",
   "metadata": {},
   "source": [
    "\n",
    "#### Simplificaciones cuentísticas\n"
   ]
  },
  {
   "cell_type": "markdown",
   "id": "4cb37deb",
   "metadata": {},
   "source": [
    "\n",
    "- Llamaremos $\\overrightarrow{d}^c_p$ al vector que representa las distancias entre un pais $c$ y un producto $p$, cuya definición es $\\overrightarrow{d}^c_p= \\max_{j/ x_{j}^c =1} {\\varphi_{p, j}}$.\n",
    "- O de forma matricial $\\overrightarrow{d}^c = \\max fila(\\Phi X^c)$ con $$ X^c = \\begin{bmatrix}\n",
    "x_1^c & 0 & \\dots & 0 \\\\\n",
    "0 & x_2^c & \\dots & 0 \\\\\n",
    "\\vdots & \\vdots & \\ddots & \\vdots \\\\\n",
    "0 & 0 & \\dots & x_n^c\n",
    "\\end{bmatrix} $$\n",
    "\n",
    "Notar que $\\overrightarrow{d}^{c,t}_p$ también depende del tiempo.\n",
    "\n"
   ]
  },
  {
   "cell_type": "markdown",
   "id": "7d59078d",
   "metadata": {},
   "source": [
    "\n",
    "### Variantes: retroalimentación vs local"
   ]
  },
  {
   "cell_type": "markdown",
   "id": "ed6e0547",
   "metadata": {},
   "source": [
    "\n",
    "Como mencionamos, simularemos dos variantes distintas, una con retroalimentación de los países y sus descubrimientos al resto del mundo y otra en la que el desarrollo se da de forma aislada en cada país y la complejidad de producir no cambia en función del tiempo.\n",
    "\n",
    "- Variante global (o con retroalimentación): se basa principalmente en actualizar $\\Phi^{t+1}$ con los datos de $x_{p,t}^c$ y luego que $\\overrightarrow{d}^{c,t+1}_p$ utilice $\\Phi^{t+1}$.\n",
    "    \n",
    "    Esta es la versión más sensata desde el punto de vista de la realidad, ya que suponemos que los avances y desarrollos que se dan en el mundo globalizado en que vivimos afectan la complejidad de producir. Pero como no removemos productos de las canastas de exportaciones, equivaldría a creer que la complejidad expresada en $\\Phi$ siempre se reduce, cosa que por crisis, faltantes, perdidas de competitividad, etc. es un poco naïve.\n",
    "\n",
    "\n",
    "- Variante local (o sin retroalimentación): se basa en hacer que $\\Phi$ no dependa del tiempo, solamente se tiene en cuenta la $\\Phi$ inicial, o sean las relaciones entre los paises y sus exportaciones en el instante inicial. Luego cada país progresa mediante la actualización de $X^c_t$. De esta forma los avances son aislados entre los paises y productos.\n",
    "\n",
    "En el trabajo intentaremos ver si estos métodos tienen diferencias y en caso de que las tuvieran por qué surgen.\n"
   ]
  },
  {
   "cell_type": "markdown",
   "id": "61af8cc3",
   "metadata": {},
   "source": [
    "## Modelo Conceptual\n"
   ]
  },
  {
   "cell_type": "markdown",
   "id": "29cfe848",
   "metadata": {},
   "source": [
    "\n",
    "Contamos con dos tipos de modelos atómicos:\n",
    "\n",
    "- Los paises, que tienen noción de sus exportaciones competitivas y realizan el proceso de difusión local.\n",
    "- El generador de eventos, que una vez por unidad de tiempo manda un mensaje a cada país para que difunda. En este mensaje, informa a los países del valor de $\\Omega$, que toma del acoplado.\n",
    "\n",
    "Ambos atómicos se sitúan en el acoplado de Espacio de Productos, que tiene conocimiento de la matriz $\\Phi$ (macro estado). La $\\Phi$ se actualizará con los cambios en el micro estado de los países si se usa el modelo con retroalimentación.\n",
    "\n",
    "![Modelo Conceptual Product Space](Modelo_Conceptual_Product_Space.drawio.png \"Modelo conceptual\")\n"
   ]
  },
  {
   "cell_type": "markdown",
   "id": "d6b1f6e7-9cee-44a7-af7f-f604dbeb6e72",
   "metadata": {},
   "source": [
    "## Modelo Formal EB-DEVS"
   ]
  },
  {
   "cell_type": "markdown",
   "id": "1999fa12-a61e-4688-9abd-0fa2439dd7a6",
   "metadata": {},
   "source": [
    "### Atómicos\n",
    "\n",
    "$Generator = <X_{gen},Y_{gen}, S_{gen}, ta_{gen}, \\delta_{int,gen}, \\delta_{ext,gen}, \\lambda_{gen}, Y_{up, gen}, S_{macro, gen}>$ donde:\n",
    "\n",
    "- $X_{gen} = S_{gen} = Y_{up, gen} = S_{macro, gen} =\n",
    "\\emptyset$\n",
    "- $Y_{gen} = \\Re$\n",
    "- $ta_{gen} (\\bullet) = 1$\n",
    "- $\\lambda_{gen}(\\bullet) = \\Omega_{simulacion}$\n",
    "\n",
    "Al no tener estado ni $Y_{up}$, las funciones $\\delta$ no cumplen ninguna función.\n",
    "\n",
    "$Country = <X_{c},Y_{c}, S_{c}, ta_{c}, \\delta_{int,c}, \\delta_{ext,c}, \\lambda_{c}, Y_{up, c}, S_{macro, c}>$ donde:\n",
    "\n",
    "- $X_c = \\Re$\n",
    "- $Y_c = \\emptyset$\n",
    "- $S_c = \\Re^{|prods|}$\n",
    "- $Y_{up,c} = String \\times \\Re^{|prods|}$\n",
    "- $S_{macro, c} = \\Re^{|prods| \\times |prods|}$\n",
    "- $ta(\\bullet) = + \\infty$\n",
    "- $\\delta_{ext, c} (exports,e,\\Omega,\\phi) = <s_c = exports', y_{up} = <name_c, exports'>>$\n",
    "- $\\lambda_c (\\bullet) = \\emptyset$\n",
    "\n",
    "con $|prods|$ la cantidad de productos.\n",
    "\n",
    "Se empieza a exportar un producto $p$ al superar el umbral $\\Omega$, es decir:\n",
    "\n",
    "$$\n",
    "exports'_p = exports_p \\lor (\\Omega < \\overrightarrow{d}^c_p)\n",
    "$$\n",
    "\n",
    "### Acoplado\n",
    "\n",
    "$ProductSpace = <X_{self}, Y_{self}, D, \\{M_i\\}, \\{I_i\\}, \\{Z_{i,j}\\}, Select, X^b_{micro}, Y_{G_{up}}, S_{G_{micro}}, S_G, v_{down}, \\delta_G>$ donde:\n",
    "\n",
    "- $X_{self} = Y_{self} = Y_{G_{up}} = S_{G_{macro}} = \\emptyset$\n",
    "- $D = \\{1,..,|paises|+1\\}$\n",
    "- $\\{M_i\\} = \\{Country_i\\} \\cup \\{Generator\\}$\n",
    "- $I_i = \\{Generator\\}$\n",
    "- $Z_{i,j}\n",
    " = Id$\n",
    "- Select = ordenar por $i \\in D$\n",
    "- $X^b_{micro} = String \\times \\Re^{|prods|}$\n",
    "- $S_G = \\Re^{|prods| \\times |prods|}$\n",
    "- $v_{down} = Id$\n",
    "- $\\delta_G (\\phi, e, x^b_{micro}, S_{G_{macro}}) =  <s_G= \\phi', y_{G_{up}}=\\emptyset>$\n",
    "\n",
    "El cambio en el estado depende del modelo utilizado (con o sin retroalimentación).\n",
    "\n",
    "En el caso con retroalimentación, $\\phi'$ es calculada usando $x^b_{micro}$, que tiene la información de la matriz $x^c_p$ / $M_{c,p}$(en términos de Hidalgo)."
   ]
  },
  {
   "cell_type": "markdown",
   "id": "9a36241c",
   "metadata": {},
   "source": [
    "\n",
    "## Simulación\n"
   ]
  },
  {
   "cell_type": "markdown",
   "id": "6b8b8b0a",
   "metadata": {},
   "source": [
    "\n",
    "Implementamos el modelo usando EB-DEVS, lo que permite que el acoplado de Espacio de Productos tenga el macro estado de la simulación, y que este sea accesible por los atómicos para afectar su funcionamiento. Además, en el caso con retroalimentacón, permite que el acoplado actualice su estado con los cambios en el micro estado de los atómicos.\n"
   ]
  },
  {
   "cell_type": "markdown",
   "id": "b72f97bb",
   "metadata": {},
   "source": [
    "\n",
    "### Generacion de datos\n"
   ]
  },
  {
   "cell_type": "markdown",
   "id": "d72d70da",
   "metadata": {},
   "source": [
    "\n",
    "Utilizamos los datos de comercio internacional [publicados por el _Growth Lab_ de la Universidad de Harvard](https://dataverse.harvard.edu/dataset.xhtml?persistentId=doi:10.7910/DVN/H8SFD2), en formato SITC Rev. 2 con códigos de producto de cuatro dígitos.\n",
    "\n",
    "De este dataset, tomamos el RCA (que viene precalculado) para cada producto en un país y año, y a partir de estos datos generamos las matrices $X$ de cada año.\n"
   ]
  },
  {
   "cell_type": "markdown",
   "id": "52bdf159",
   "metadata": {},
   "source": [
    "\n",
    "### Cómo simular\n"
   ]
  },
  {
   "cell_type": "markdown",
   "id": "dde1a972",
   "metadata": {},
   "source": [
    "\n",
    "Para correr la simulación, se requiere Python3 con EB-DEVS y numpy instalado. Se puede correr el script `main.py` con los siguientes argumentos:\n",
    "\n",
    "```\n",
    "--duration, -d: cantidad de interaciones de difusión a realizar\n",
    "--big-omega, -O: valor del parámetro de difusión (por defecto, 0.55)\n",
    "--metrics-folder, -m: carpeta o directorio en el que guardar las métricas\n",
    "--phi-matrix-update, -u: booleano que define si se utiliza el modelo con retroalimentación (por defecto, falso)\n",
    "--X-matrices-file, -f: datos de entrada, en formato pkl, que contiene las matrices X (por defecto, data/stage1_data.pkl)\n",
    "--year, -y: año de origen de la simulación, define con qué matriz X se empieza (por defecto, 2000)\n",
    "```\n",
    "\n",
    "El simulador genera dos archivos de salida con métricas:\n",
    "\n",
    "- `omega.csv`: máximo, mínimo y promedio del vector $\\overrightarrow{d}^{c, t}$ de un país en cada generación/iteración\n",
    "- `exports.csv`: cantidad de productos exportados por un país en cada generación/iteración\n"
   ]
  },
  {
   "cell_type": "markdown",
   "id": "449de6fa",
   "metadata": {},
   "source": [
    "## Análisis"
   ]
  },
  {
   "cell_type": "markdown",
   "id": "bd079b7e",
   "metadata": {},
   "source": [
    "\n",
    "Simulamos estas combinaciones\n",
    "\n"
   ]
  },
  {
   "cell_type": "markdown",
   "id": "68b3e10e",
   "metadata": {},
   "source": [
    "#### Carga de datos"
   ]
  },
  {
   "cell_type": "code",
   "execution_count": null,
   "id": "65a358e2",
   "metadata": {},
   "outputs": [],
   "source": [
    "import pandas as pd\n",
    "import plotly.express as px\n",
    "import numpy as np\n",
    "from plotly.subplots import make_subplots\n",
    "import plotly.graph_objects as go\n",
    "#import plotly.offline as py\n",
    "#py.init_notebook_mode(connected=False)\n",
    "#import plotly.io as pio\n",
    "#pio.renderers.default = 'pdf'\n",
    "\n",
    "\n",
    "UNINTRESTING_OMEGAS = (0.1, 0.2, 0.3, 0.4, 0.6, 0.65, 0.8, 0.9)\n",
    "INTRESTING_OMEGAS = (0.5, 0.55)\n",
    "\n",
    "\n",
    "## CARGA DE DATOS PARA MEDIR DIFERENCIAS ENRTRE CRITERIOS\n",
    "exports_diff_dfs = []\n",
    "exports_global_dfs = []\n",
    "exports_local_dfs = []\n",
    "for omega in list(UNINTRESTING_OMEGAS) + list(INTRESTING_OMEGAS):\n",
    "    exports_global_df = pd.read_csv(f\"experimentacion/metrics-true-{omega}/exports.csv\")\n",
    "    exports_global_df[\"omega\"] = omega\n",
    "    exports_global_df.set_index([\"country\", \"generation\"], inplace=True)\n",
    "    exports_global_dfs.append(exports_global_df)\n",
    "\n",
    "    exports_local_df = pd.read_csv(f\"experimentacion/metrics-false-{omega}/exports.csv\")\n",
    "    exports_local_df[\"omega\"] = omega\n",
    "    exports_local_df.set_index([\"country\", \"generation\"], inplace=True)\n",
    "    exports_local_dfs.append(exports_local_df)\n",
    "\n",
    "    exports_diff_df = exports_global_df - exports_local_df\n",
    "    exports_diff_df[\"omega\"] = omega\n",
    "\n",
    "    exports_diff_dfs.append(exports_diff_df)\n",
    "\n",
    "exports_diff_df = pd.concat(exports_diff_dfs)\n",
    "exports_diff_df.sort_values(\"omega\", inplace=True)\n",
    "\n",
    "exports_global_df = pd.concat(exports_global_dfs)\n",
    "exports_global_df.sort_values(\"omega\", inplace=True)\n",
    "\n",
    "exports_local_df = pd.concat(exports_local_dfs)\n",
    "exports_local_df.sort_values(\"omega\", inplace=True)"
   ]
  },
  {
   "cell_type": "markdown",
   "id": "6f64d9cc",
   "metadata": {},
   "source": [
    "\n",
    "### Cantidad de generaciones necesarias para alcanzar estabilidad\n"
   ]
  },
  {
   "cell_type": "markdown",
   "id": "03aabf6e",
   "metadata": {},
   "source": [
    "\n",
    "Como veremos a continuación, si bien hicimos 20 generaciones de difusión, con 10 ya sería suficiente. En muchos de los gráficos subsiguientes solo se muestran hasta 10 generaciones por motivos de claridad ya que los comporamientos no cambiarían en las generaciones mayores."
   ]
  },
  {
   "cell_type": "code",
   "execution_count": null,
   "id": "a4920615",
   "metadata": {},
   "outputs": [],
   "source": [
    "paises = [\"ARG\", \"BRA\", \"CHL\", \"AUS\"]\n",
    "# graficar las dos curvas\n",
    "# TODO: fijar los paises\n",
    "paises = set(paises + [country for country, _ in np.random.choice(exports_local_df.index, 6 - len(paises))])\n",
    "\n",
    "# Criterio local\n",
    "df = exports_local_df.loc[sorted(paises)].reset_index().sort_values([\"country\",\"generation\",\"omega\"])\n",
    "fig = px.line(df,\n",
    "            x=\"generation\",\n",
    "            y=\"count_exports\",\n",
    "            color=\"omega\",\n",
    "            facet_col=\"country\",\n",
    "            facet_col_wrap=2,\n",
    "            height=600,\n",
    "            title=\"Exportaciones en función de la generación por país y omega para criterio local\",\n",
    "            labels={\"count_exports\": \"Exportaciones\", \"generation\": \"Generación\", \"country\": \"País\"})\n",
    "fig.for_each_annotation(lambda a: a.update(text=a.text.replace(\"=\", \" = \")))\n",
    "fig.add_vline(x=10, annotation_text=\"Fin sugerido de la simulación\", annotation_position=\"bottom right\")\n",
    "fig.add_hline(y=df.count_exports.max(), annotation_text=\"Máximas exportaciones\", opacity=.25)\n",
    "fig.show()\n",
    "\n",
    "# Criterio global\n",
    "df = exports_global_df.loc[sorted(paises)].reset_index().sort_values([\"country\",\"generation\",\"omega\"])\n",
    "fig = px.line(df,\n",
    "            x=\"generation\",\n",
    "            y=\"count_exports\",\n",
    "            color=\"omega\",\n",
    "            facet_col=\"country\",\n",
    "            facet_col_wrap=2,\n",
    "            height=600,\n",
    "            title=\"Exportaciones en función de la generación por país y omega para criterio global\",\n",
    "            labels={\"count_exports\": \"Exportaciones\", \"generation\": \"Generación\", \"country\": \"País\"})\n",
    "fig.for_each_annotation(lambda a: a.update(text=a.text.replace(\"=\", \" = \")))\n",
    "fig.add_vline(x=10, annotation_text=\"Fin sugerido de la simulación\", annotation_position=\"bottom right\")\n",
    "fig.add_hline(y=df.count_exports.max(), annotation_text=\"Máximas exportaciones\", opacity=.25)"
   ]
  },
  {
   "cell_type": "markdown",
   "id": "22c56d30",
   "metadata": {},
   "source": [
    "Como podemos observar, luego del criterio de corte en la décima generación, no ocurre nada de interés.\n",
    "\n",
    "Por lo tanto, las gráficas posteriores tendrán solo 10 generaciones, también es un criterio útil para simular menos generaciones y obtener resultados similares. \n",
    "\n",
    "Ya que si bien el costo del simulador actualmente es más bien numérico (y por lo tanto se simula \"rápido\"), al hacerle modificaciones en el futuro en el que se le agrega inteligencia o dificultad para exportar esto podría cambiar y ejecutar menos generaciones resultar ventajoso."
   ]
  },
  {
   "cell_type": "code",
   "execution_count": null,
   "id": "b229181f",
   "metadata": {},
   "outputs": [],
   "source": [
    "# corte de dataframes\n",
    "\n",
    "def filter_large_generations(index):\n",
    "    return [(country, generation) for country, generation in index if generation > 10]\n",
    "\n",
    "exports_diff_df.drop(index=filter_large_generations(exports_diff_df.index), inplace=True)\n",
    "exports_global_df.drop(index=filter_large_generations(exports_global_df.index), inplace=True)\n",
    "exports_local_df.drop(index=filter_large_generations(exports_local_df.index), inplace=True)"
   ]
  },
  {
   "cell_type": "markdown",
   "id": "239ffad5",
   "metadata": {},
   "source": [
    "\n",
    "### Diferencias de exportaciones por omega y criterio de simulación"
   ]
  },
  {
   "cell_type": "code",
   "execution_count": null,
   "id": "84fe570a",
   "metadata": {},
   "outputs": [],
   "source": [
    "exports_global_df_copy = exports_global_df.copy()\n",
    "exports_global_df_copy[\"local\"] = False\n",
    "exports_local_df_copy = exports_local_df.copy()\n",
    "exports_local_df_copy[\"local\"] = True\n",
    "exports_df = pd.concat([exports_local_df_copy, exports_global_df_copy])\n"
   ]
  },
  {
   "cell_type": "markdown",
   "id": "af08ea9b",
   "metadata": {},
   "source": [
    "Veamos que ocurre para los paises que acabamos de analizar en función de cada criterio de simulación, en línea punteada las exportaciones para las simulaciones globales y en línea común las exportaciones para las simulaciones sin actualización de $\\Phi$."
   ]
  },
  {
   "cell_type": "code",
   "execution_count": null,
   "id": "f892a3a5",
   "metadata": {},
   "outputs": [],
   "source": [
    "df = exports_df.loc[sorted(paises)].reset_index().sort_values([\"country\",\"generation\",\"omega\"])\n",
    "fig = px.line(\n",
    "    df,\n",
    "    x=\"generation\",\n",
    "    y=\"count_exports\",\n",
    "    color=\"omega\",\n",
    "    line_dash=\"local\",\n",
    "    facet_col=\"country\",\n",
    "    facet_col_wrap=2,\n",
    "    height=600,\n",
    "    title=\"Exportaciones por país y criterio de simulación\",\n",
    "    labels={\"count_exports\": \"Exportaciones\", \"generation\": \"Generación\", \"country\": \"País\", \"omega\": \"Omega\"},\n",
    ")\n",
    "fig.for_each_annotation(lambda a: a.update(text=a.text.replace(\"=\", \" = \")))\n",
    "fig.show()"
   ]
  },
  {
   "cell_type": "markdown",
   "id": "740e83d6",
   "metadata": {},
   "source": [
    "Se observan claras diferencias entre las para cada $\\Omega$, en algunos casos ($\\Omega$ medios) la ventaja en exportaciones para las simulaciones globales son muy significativas, mientras que para aquellos umbrales muy altos o muy bajos (muy complejo o muy simple), no parece haber diferencia. Recordar que a medida avanza la simulacion, dado que es un proceso de difusion, se aproximan asintotas sobre las metricas observadas\n",
    "\n",
    "Para tener una visión más clara, veamos la diferencia absoluta entre las exportaciones por tipo de simulación."
   ]
  },
  {
   "cell_type": "code",
   "execution_count": null,
   "id": "54a509a7",
   "metadata": {},
   "outputs": [],
   "source": [
    "df = exports_diff_df.loc[sorted(paises)].reset_index().sort_values([\"country\",\"generation\",\"omega\"])\n",
    "fig = px.line(df,\n",
    "            x=\"generation\",\n",
    "            y=\"count_exports\",\n",
    "            color=\"omega\",\n",
    "            facet_col=\"country\",\n",
    "            facet_col_wrap=2,\n",
    "            height=600,\n",
    "            title=\"Cantidad de exportaciones extra del criterio global respecto del local\",\n",
    "            labels={\"count_exports\": \"+ Exportaciones\", \"generation\": \"Generación\", \"country\": \"País\"}\n",
    "        )\n",
    "fig.for_each_annotation(lambda a: a.update(text=a.text.replace(\"=\", \" = \")))\n",
    "fig.show()"
   ]
  },
  {
   "cell_type": "markdown",
   "id": "97c06c3a",
   "metadata": {},
   "source": [
    "Se observa que, para todos los paises, la diferencia se estabiliza en las últimas generaciones, por lo que tomaremos las comparativas con la menor divergencia (la última generación disponible).\n",
    "\n",
    "Veamos con mayor detalle como es la distribucion segun $\\Omega$ (umbral de \"descubrimiento\")."
   ]
  },
  {
   "cell_type": "code",
   "execution_count": null,
   "id": "dd9398d5",
   "metadata": {},
   "outputs": [],
   "source": [
    "max_diff_df = (\n",
    "    exports_diff_df\n",
    "    .reset_index()\n",
    "    .set_index([\"generation\", \"country\", \"omega\"])\n",
    "    .loc[max(exports_diff_df.index.get_level_values(1))]\n",
    "    .max(axis=1)\n",
    ")\n",
    "max_diff_df.rename(\"difference\", inplace=True)\n",
    "fig = px.box(\n",
    "    max_diff_df.reset_index(),\n",
    "    x=\"omega\",\n",
    "    y=\"difference\",\n",
    "    title=f\"Distribucion de la ventaja del criterio global respecto al criterio local según omega para todos los países (ultima generacion)\",\n",
    "    labels={\"difference\": \"Diferencia absoluta de exportaciones\", \"omega\": \"Omega\"})\n",
    "fig.show()"
   ]
  },
  {
   "cell_type": "markdown",
   "id": "40c2f4fc",
   "metadata": {},
   "source": [
    "Claramente los más interesantes de analizar son los valores de $\\Omega = 0.5 $ y $ 0.55$ Esto se condice con la idea de que a valores muy pequenos de $\\Omega$ el descubrimiento es fácil y a valores muy elevados es muy difícil, por lo que las alternativas globales y locales pecan en los mismos aspectos.\n",
    "\n",
    "La elección de $\\Omega$ resultaría más fuerte en la simulación que actualizar $\\Phi$."
   ]
  },
  {
   "cell_type": "markdown",
   "id": "6736aa2e",
   "metadata": {},
   "source": [
    "\n",
    "#### Local vs global para $\\Omega$ poco interesante"
   ]
  },
  {
   "cell_type": "code",
   "execution_count": null,
   "id": "db28f1ad-269f-475d-a8b4-7806cfa3c184",
   "metadata": {},
   "outputs": [],
   "source": [
    "# diferencia total en la cantidad de exportaciones de los omegas\n",
    "df_ = exports_diff_df[exports_diff_df.omega.isin(UNINTRESTING_OMEGAS)].reset_index().sort_values([\"omega\", \"generation\"])\n",
    "fig = px.line(df_,\n",
    "        color=\"country\",\n",
    "        x=\"generation\",\n",
    "        y=\"count_exports\",\n",
    "        facet_col=\"omega\",\n",
    "        facet_col_wrap=2,\n",
    "        height=600,\n",
    "        title=\"Cantidad de exportaciones extra del criterio global respecto del local para todos los países\",\n",
    "        labels={\"count_exports\": \"+ Exportaciones\", \"omega\": \"Omega\", \"generation\": \"Generación\"})\n",
    "fig.for_each_annotation(lambda a: a.update(text=a.text.replace(\"=\", \" = \")))\n",
    "fig.update_yaxes(matches=None)\n",
    "fig.update_xaxes(matches=None)\n",
    "fig.show()"
   ]
  },
  {
   "cell_type": "markdown",
   "id": "83786936",
   "metadata": {},
   "source": [
    "Aclaración: los ejes $y$ no mantienen escala.\n",
    "\n",
    "Como vemos, no hay cambios de interés fuera de las primeras generaciones para ninguno de los $\\Omega$ elegidos, por lo que para $\\Omega = 0.1, 0.2, 0.3, 0.4, 0.6, 0.65, 0.8, 0.9$ concluimos que las versiones locales y globales son indistinguibles.\n",
    "\n",
    "Notar que para $\\Omega=0.6$ la máxima diferencia es de 20 productos en la última generación, respecto de una canasta total de 700."
   ]
  },
  {
   "cell_type": "markdown",
   "id": "fde3d0fa",
   "metadata": {},
   "source": [
    "\n",
    "#### Local vs global para $\\Omega$ interesante"
   ]
  },
  {
   "cell_type": "code",
   "execution_count": null,
   "id": "50ab8d91",
   "metadata": {},
   "outputs": [],
   "source": [
    "df_ = exports_diff_df[exports_diff_df.omega.isin(INTRESTING_OMEGAS)].reset_index().sort_values([\"omega\", \"generation\"])\n",
    "fig = px.line(df_,\n",
    "        color=\"country\",\n",
    "        x=\"generation\",\n",
    "        y=\"count_exports\",\n",
    "        facet_col=\"omega\",\n",
    "        facet_col_wrap=2,\n",
    "        height=600,\n",
    "        title=\"Cantidad de exportaciones extra del criterio global respecto del local para todos los países\",\n",
    "        labels={\"count_exports\": \"+ Exportaciones\", \"omega\": \"Omega\", \"generation\": \"Generación\"})\n",
    "fig.for_each_annotation(lambda a: a.update(text=a.text.replace(\"=\", \" = \")))\n",
    "fig.update_xaxes(matches=None)\n",
    "fig.show()"
   ]
  },
  {
   "cell_type": "markdown",
   "id": "ac04141c",
   "metadata": {},
   "source": [
    "$\\Omega = 0.5$ y $0.55$ si muestran comportamientos significativamente distintos, por lo que no podemos concluir que la version local y la global tengan indistinguibles. Como lo que esta siendo graficado es global - local y la diferencia es positiva y mayor a 20 productos en la mayoria de los casos, interprestamos que la version global facilita la difusión.\n",
    "\n",
    "Explicamos el comportamiento indistinguible de los casos clasificados como $\\Omega$ poco interesante ya que para estos valores de $\\Omega$ la difusión suele alcanzar máximos por ser muy fácil difundir o caso contrario, demasiado difícil, entonces la retroalimentacion de $\\Phi$ no aporta el suficiente peso como para contrarrestar los efectos negativos en el desarrollo de nuevos productos."
   ]
  },
  {
   "cell_type": "markdown",
   "id": "f38aabce-3f93-4411-86b1-892cf2df43e5",
   "metadata": {},
   "source": [
    "Para terminar, mostraremos las diferencias en los productos desarrollados con ambos modelos. Graficamos el árbol generador máximo del espacio de productos mundial previo a la simulación, y coloreamos los nodos que son desarrollados en distinta cantidad de iteraciones de simulación. Usamos como ejemplo Argentina, con $\\Omega = 0.5$ y un máximo de 5 generaciones."
   ]
  },
  {
   "cell_type": "code",
   "execution_count": null,
   "id": "8b6a4263-4752-4742-aa3b-294cbe89c0a7",
   "metadata": {},
   "outputs": [],
   "source": [
    "from metrics.product_space_graph import ProductSpaceGraph\n",
    "graph_local = ProductSpaceGraph(\"experimentacion/full-local/exports_history.pkl\")\n",
    "graph_global = ProductSpaceGraph(\"experimentacion/full-global/exports_history.pkl\")"
   ]
  },
  {
   "cell_type": "code",
   "execution_count": null,
   "id": "84737218-de24-4f50-a553-11b125d1fc5a",
   "metadata": {
    "tags": []
   },
   "outputs": [],
   "source": [
    "graph_local.plot(\"Proceso de difusión con criterio local en Argentina, Omega = 0.5\")"
   ]
  },
  {
   "cell_type": "code",
   "execution_count": null,
   "id": "2d04ef39-c6e6-461a-bc1c-45f1ab72cc70",
   "metadata": {
    "tags": []
   },
   "outputs": [],
   "source": [
    "graph_global.plot(\"Proceso de difusión con criterio global en Argentina, Omega = 0.5\")"
   ]
  },
  {
   "cell_type": "markdown",
   "id": "b2dafad4-2749-4aba-80d6-331d5197464d",
   "metadata": {},
   "source": [
    "Podemos observar que varios productos sólo se desarrollan en el modelo global. Además, otros productos se desarrollan en los dos modelos, pero requiere menos iteraciones el el global. Esto concuerda con lo que esperábamos a partir de lo observado en las figuras anteriores."
   ]
  },
  {
   "cell_type": "markdown",
   "id": "270f0878",
   "metadata": {},
   "source": [
    "## Conclusiones"
   ]
  },
  {
   "cell_type": "markdown",
   "id": "dcc5346f",
   "metadata": {},
   "source": [
    "En primer lugar corresponde marcar una diferencia muy importante en nuestros hallazgos y los papers originales: para $\\Omega = 0.5$ y $0.55$ el modelo global y local muestran diferencias muy marcadas. Contrario a lo que se afirma en la bibliografía donde se asegura que son indistinguibles. No vemos ningun motivo particular para que nuestras conclusiones sean tan distintas, consideramos que el modelo de difusión replica fielmente al original (en la medida de la información disponible). Cabe destacar que esta comparación fue posible gracias a la posibilidad de modelar la retroalimentación entre micro y macro estado mediante EB-DEVS.\n",
    "\n",
    "La herramienta desarrollada permite estudiar distintas métricas de redes, incluyendo las del trabajo original. Esperamos que esto permita realizar futuros trabajos más detallados, enfocados en países y/o productos particulares, para estudiar posibles estrategias de desarrollo.\n"
   ]
  }
 ],
 "metadata": {
  "interpreter": {
   "hash": "216aaf50a997f91f8fb135dbeb1e7d78b1a179d81139dcdd3582a11ee9e36366"
  },
  "kernelspec": {
   "display_name": "Python 3 (ipykernel)",
   "language": "python",
   "name": "python3"
  },
  "language_info": {
   "codemirror_mode": {
    "name": "ipython",
    "version": 3
   },
   "file_extension": ".py",
   "mimetype": "text/x-python",
   "name": "python",
   "nbconvert_exporter": "python",
   "pygments_lexer": "ipython3",
   "version": "3.9.2"
  }
 },
 "nbformat": 4,
 "nbformat_minor": 5
}
